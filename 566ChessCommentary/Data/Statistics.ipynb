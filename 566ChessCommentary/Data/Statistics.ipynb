{
  "nbformat": 4,
  "nbformat_minor": 0,
  "metadata": {
    "colab": {
      "name": "Copy of Copy of data_numbers.ipynb",
      "provenance": [],
      "collapsed_sections": [
        "31hXAKSWbXs7",
        "xF59PwnGbZqv",
        "kl8bbiIqbbCu",
        "BEGlIx7Bbpjv",
        "IhSix7h26TPq"
      ]
    },
    "kernelspec": {
      "name": "python3",
      "display_name": "Python 3"
    }
  },
  "cells": [
    {
      "cell_type": "markdown",
      "metadata": {
        "id": "31hXAKSWbXs7"
      },
      "source": [
        "# games"
      ]
    },
    {
      "cell_type": "code",
      "metadata": {
        "id": "CLd1Y9eP3GdG"
      },
      "source": [
        "annotated_url = \"https://gameknot.com/list_annotated.pl?u=all\"\n",
        "number_of_pages = 316"
      ],
      "execution_count": 1,
      "outputs": []
    },
    {
      "cell_type": "code",
      "metadata": {
        "id": "ln9LNeX1NMpQ"
      },
      "source": [
        "import pickle"
      ],
      "execution_count": 2,
      "outputs": []
    },
    {
      "cell_type": "code",
      "metadata": {
        "colab": {
          "base_uri": "https://localhost:8080/"
        },
        "id": "wOU8bXl82X57",
        "outputId": "c6e844c0-f417-4e66-ab1c-9a77e4b53068"
      },
      "source": [
        "from google.colab import drive\n",
        "drive.mount('/content/drive')"
      ],
      "execution_count": 3,
      "outputs": [
        {
          "output_type": "stream",
          "text": [
            "Mounted at /content/drive\n"
          ],
          "name": "stdout"
        }
      ]
    },
    {
      "cell_type": "code",
      "metadata": {
        "id": "1Hr2gUhu3GfK"
      },
      "source": [
        "BASE_PATH = '/content/drive/MyDrive/NLP/Data/'"
      ],
      "execution_count": 4,
      "outputs": []
    },
    {
      "cell_type": "code",
      "metadata": {
        "id": "eI8kLkyb2oFj"
      },
      "source": [
        "game_urls = pickle.load(open(BASE_PATH+\"saved_game_urls.p\",\"rb\"))"
      ],
      "execution_count": 5,
      "outputs": []
    },
    {
      "cell_type": "code",
      "metadata": {
        "colab": {
          "base_uri": "https://localhost:8080/"
        },
        "id": "nhbMP2H12oDb",
        "outputId": "51e4d813-18bd-4ed1-b8b8-65ad8689aefd"
      },
      "source": [
        "len(game_urls)"
      ],
      "execution_count": 6,
      "outputs": [
        {
          "output_type": "execute_result",
          "data": {
            "text/plain": [
              "12636"
            ]
          },
          "metadata": {
            "tags": []
          },
          "execution_count": 6
        }
      ]
    },
    {
      "cell_type": "code",
      "metadata": {
        "colab": {
          "base_uri": "https://localhost:8080/"
        },
        "id": "LFMtGy1JzEOe",
        "outputId": "3e3afeb2-b5d5-451e-f259-e19df8c17d2d"
      },
      "source": [
        "len(list(set(game_urls)))"
      ],
      "execution_count": 7,
      "outputs": [
        {
          "output_type": "execute_result",
          "data": {
            "text/plain": [
              "12636"
            ]
          },
          "metadata": {
            "tags": []
          },
          "execution_count": 7
        }
      ]
    },
    {
      "cell_type": "markdown",
      "metadata": {
        "id": "xF59PwnGbZqv"
      },
      "source": [
        "# load"
      ]
    },
    {
      "cell_type": "code",
      "metadata": {
        "id": "jx9kF-e_2NHr"
      },
      "source": [
        "games_data_path = BASE_PATH + 'NEW_attack/games_data'\n",
        "NUMER_OF_DATA_DIRS = 12"
      ],
      "execution_count": 8,
      "outputs": []
    },
    {
      "cell_type": "code",
      "metadata": {
        "id": "j_jP874a2bJd"
      },
      "source": [
        "paths = [f'{games_data_path}{i+1}.p' for i in range(NUMER_OF_DATA_DIRS)]"
      ],
      "execution_count": 9,
      "outputs": []
    },
    {
      "cell_type": "code",
      "metadata": {
        "id": "wP6ps9WpNjwd"
      },
      "source": [
        "data = []\n",
        "for path in paths:\n",
        "    with open(path, 'rb') as file:\n",
        "        raw_data = pickle.load(file)\n",
        "    data.extend(raw_data)"
      ],
      "execution_count": 10,
      "outputs": []
    },
    {
      "cell_type": "markdown",
      "metadata": {
        "id": "kl8bbiIqbbCu"
      },
      "source": [
        "# samples\n"
      ]
    },
    {
      "cell_type": "code",
      "metadata": {
        "id": "Ox-ZcYSo_r-W",
        "colab": {
          "base_uri": "https://localhost:8080/"
        },
        "outputId": "269207d1-59aa-4191-8abb-a9bf2c2cd4a4"
      },
      "source": [
        "len(data)"
      ],
      "execution_count": 11,
      "outputs": [
        {
          "output_type": "execute_result",
          "data": {
            "text/plain": [
              "349015"
            ]
          },
          "metadata": {
            "tags": []
          },
          "execution_count": 11
        }
      ]
    },
    {
      "cell_type": "code",
      "metadata": {
        "id": "NsNm6eJDNQ2E",
        "colab": {
          "base_uri": "https://localhost:8080/"
        },
        "outputId": "52bc1d7a-6845-4eab-b0b0-eb0d0bab3a26"
      },
      "source": [
        "len(list(set(data)))"
      ],
      "execution_count": 12,
      "outputs": [
        {
          "output_type": "execute_result",
          "data": {
            "text/plain": [
              "348868"
            ]
          },
          "metadata": {
            "tags": []
          },
          "execution_count": 12
        }
      ]
    },
    {
      "cell_type": "code",
      "metadata": {
        "id": "QSzEbBAitSNj"
      },
      "source": [
        "data = list(set(data))"
      ],
      "execution_count": 13,
      "outputs": []
    },
    {
      "cell_type": "code",
      "metadata": {
        "id": "ligaVnpI1Pp4"
      },
      "source": [
        "total = len(list(set(data)))"
      ],
      "execution_count": 14,
      "outputs": []
    },
    {
      "cell_type": "code",
      "metadata": {
        "id": "8xDNr11e3ZMK"
      },
      "source": [
        "moves_count, legal_moves_count, attackers_count, attacks_count, len_comment = [], [], [], [], []\n",
        "\n",
        "for data_object in data:\n",
        "  (FEN, moves, last_move_desc, legal_moves, attackers_list, attacks_list, comment) = data_object\n",
        "\n",
        "  moves_ = moves.count(',') + 1 if moves != '' else 0\n",
        "  moves_count.append(moves_)\n",
        "\n",
        "  legal_moves_ = legal_moves.count(',') + 1 if legal_moves != '' else 0\n",
        "  legal_moves_count.append(legal_moves_) \n",
        "\n",
        "  attackers = attackers_list.count(',') + 1 if attackers_list != '' else 0\n",
        "  attackers_count.append(attackers) \n",
        "\n",
        "  attacks = attacks_list.count(',') + 1 if attacks_list != '' else 0\n",
        "  attacks_count.append(attacks) \n",
        "  \n",
        "  len_comment.append(len(comment.split(' ')))"
      ],
      "execution_count": 15,
      "outputs": []
    },
    {
      "cell_type": "markdown",
      "metadata": {
        "id": "BEGlIx7Bbpjv"
      },
      "source": [
        "# moves"
      ]
    },
    {
      "cell_type": "code",
      "metadata": {
        "id": "Q5gzsmodAPbq"
      },
      "source": [
        "import collections\n",
        "import matplotlib.pyplot as plt"
      ],
      "execution_count": 16,
      "outputs": []
    },
    {
      "cell_type": "code",
      "metadata": {
        "id": "mXFGEttDAl4K"
      },
      "source": [
        "ctr_moves = collections.Counter(moves_count)"
      ],
      "execution_count": 17,
      "outputs": []
    },
    {
      "cell_type": "code",
      "metadata": {
        "id": "MZj6GgFkcd3B",
        "colab": {
          "base_uri": "https://localhost:8080/"
        },
        "outputId": "d8c788ff-b561-4a10-ed65-5072b591defd"
      },
      "source": [
        "ctr_moves"
      ],
      "execution_count": 18,
      "outputs": [
        {
          "output_type": "execute_result",
          "data": {
            "text/plain": [
              "Counter({0: 4661,\n",
              "         1: 200374,\n",
              "         2: 59950,\n",
              "         3: 27586,\n",
              "         4: 19427,\n",
              "         5: 10112,\n",
              "         6: 7594,\n",
              "         7: 4352,\n",
              "         8: 3516,\n",
              "         9: 2203,\n",
              "         10: 1865,\n",
              "         11: 1199,\n",
              "         12: 1032,\n",
              "         13: 749,\n",
              "         14: 665,\n",
              "         15: 499,\n",
              "         16: 463,\n",
              "         17: 319,\n",
              "         18: 290,\n",
              "         19: 244,\n",
              "         20: 212,\n",
              "         21: 172,\n",
              "         22: 157,\n",
              "         23: 117,\n",
              "         24: 93,\n",
              "         25: 98,\n",
              "         26: 80,\n",
              "         27: 73,\n",
              "         28: 72,\n",
              "         29: 55,\n",
              "         30: 55,\n",
              "         31: 45,\n",
              "         32: 43,\n",
              "         33: 45,\n",
              "         34: 29,\n",
              "         35: 19,\n",
              "         36: 29,\n",
              "         37: 21,\n",
              "         38: 21,\n",
              "         39: 20,\n",
              "         40: 22,\n",
              "         41: 19,\n",
              "         42: 7,\n",
              "         43: 17,\n",
              "         44: 16,\n",
              "         45: 10,\n",
              "         46: 15,\n",
              "         47: 14,\n",
              "         48: 5,\n",
              "         49: 11,\n",
              "         50: 8,\n",
              "         51: 9,\n",
              "         52: 5,\n",
              "         53: 7,\n",
              "         54: 12,\n",
              "         55: 12,\n",
              "         56: 13,\n",
              "         57: 7,\n",
              "         58: 8,\n",
              "         59: 4,\n",
              "         60: 1,\n",
              "         61: 6,\n",
              "         62: 3,\n",
              "         63: 1,\n",
              "         64: 10,\n",
              "         65: 3,\n",
              "         66: 4,\n",
              "         67: 5,\n",
              "         68: 4,\n",
              "         69: 3,\n",
              "         73: 2,\n",
              "         74: 2,\n",
              "         75: 2,\n",
              "         76: 3,\n",
              "         77: 2,\n",
              "         78: 4,\n",
              "         79: 4,\n",
              "         80: 5,\n",
              "         82: 3,\n",
              "         84: 1,\n",
              "         87: 2,\n",
              "         92: 1,\n",
              "         93: 1,\n",
              "         94: 3,\n",
              "         97: 2,\n",
              "         100: 1,\n",
              "         104: 1,\n",
              "         108: 1,\n",
              "         109: 1,\n",
              "         110: 1,\n",
              "         117: 1,\n",
              "         118: 2,\n",
              "         122: 1,\n",
              "         124: 1,\n",
              "         127: 1,\n",
              "         129: 2,\n",
              "         160: 1})"
            ]
          },
          "metadata": {
            "tags": []
          },
          "execution_count": 18
        }
      ]
    },
    {
      "cell_type": "code",
      "metadata": {
        "colab": {
          "base_uri": "https://localhost:8080/",
          "height": 333
        },
        "id": "kZjI4nDYcF5V",
        "outputId": "80d60af5-79c2-4f9e-8d66-29e10f6ce238"
      },
      "source": [
        "plt.hist([l for l in moves_count if l<6])"
      ],
      "execution_count": 19,
      "outputs": [
        {
          "output_type": "execute_result",
          "data": {
            "text/plain": [
              "(array([  4661.,      0., 200374.,      0.,  59950.,      0.,  27586.,\n",
              "             0.,  19427.,  10112.]),\n",
              " array([0. , 0.5, 1. , 1.5, 2. , 2.5, 3. , 3.5, 4. , 4.5, 5. ]),\n",
              " <a list of 10 Patch objects>)"
            ]
          },
          "metadata": {
            "tags": []
          },
          "execution_count": 19
        },
        {
          "output_type": "display_data",
          "data": {
            "image/png": "[encoded data removed]",
            "text/plain": [
              "<Figure size 432x288 with 1 Axes>"
            ]
          },
          "metadata": {
            "tags": [],
            "needs_background": "light"
          }
        }
      ]
    },
    {
      "cell_type": "markdown",
      "metadata": {
        "id": "IhSix7h26TPq"
      },
      "source": [
        "# legal moves\n"
      ]
    },
    {
      "cell_type": "code",
      "metadata": {
        "id": "R5cATVHm6VNK"
      },
      "source": [
        "ctr_legal_moves = collections.Counter(legal_moves_count)"
      ],
      "execution_count": 20,
      "outputs": []
    },
    {
      "cell_type": "code",
      "metadata": {
        "colab": {
          "base_uri": "https://localhost:8080/"
        },
        "id": "rBidu8ma6cpe",
        "outputId": "e426a076-da80-4021-8719-dd603240b2a8"
      },
      "source": [
        "ctr_legal_moves "
      ],
      "execution_count": 21,
      "outputs": [
        {
          "output_type": "execute_result",
          "data": {
            "text/plain": [
              "Counter({0: 4071,\n",
              "         1: 3988,\n",
              "         2: 5495,\n",
              "         3: 5458,\n",
              "         4: 4756,\n",
              "         5: 3567,\n",
              "         6: 2527,\n",
              "         7: 1681,\n",
              "         8: 1234,\n",
              "         9: 962,\n",
              "         10: 934,\n",
              "         11: 1067,\n",
              "         12: 1216,\n",
              "         13: 1485,\n",
              "         14: 1606,\n",
              "         15: 1876,\n",
              "         16: 2253,\n",
              "         17: 2451,\n",
              "         18: 2632,\n",
              "         19: 2989,\n",
              "         20: 9119,\n",
              "         21: 4193,\n",
              "         22: 5230,\n",
              "         23: 4914,\n",
              "         24: 5120,\n",
              "         25: 6448,\n",
              "         26: 7509,\n",
              "         27: 10167,\n",
              "         28: 11208,\n",
              "         29: 13089,\n",
              "         30: 15548,\n",
              "         31: 13708,\n",
              "         32: 14466,\n",
              "         33: 15042,\n",
              "         34: 14564,\n",
              "         35: 14347,\n",
              "         36: 14110,\n",
              "         37: 13833,\n",
              "         38: 13569,\n",
              "         39: 12607,\n",
              "         40: 11233,\n",
              "         41: 10249,\n",
              "         42: 9484,\n",
              "         43: 8472,\n",
              "         44: 7236,\n",
              "         45: 6167,\n",
              "         46: 5228,\n",
              "         47: 4436,\n",
              "         48: 3436,\n",
              "         49: 2863,\n",
              "         50: 2262,\n",
              "         51: 1783,\n",
              "         52: 1332,\n",
              "         53: 996,\n",
              "         54: 793,\n",
              "         55: 515,\n",
              "         56: 402,\n",
              "         57: 286,\n",
              "         58: 211,\n",
              "         59: 153,\n",
              "         60: 97,\n",
              "         61: 63,\n",
              "         62: 41,\n",
              "         63: 32,\n",
              "         64: 16,\n",
              "         65: 16,\n",
              "         66: 8,\n",
              "         67: 4,\n",
              "         68: 6,\n",
              "         69: 2,\n",
              "         71: 2,\n",
              "         72: 1,\n",
              "         76: 1,\n",
              "         77: 1,\n",
              "         85: 2})"
            ]
          },
          "metadata": {
            "tags": []
          },
          "execution_count": 21
        }
      ]
    },
    {
      "cell_type": "code",
      "metadata": {
        "colab": {
          "base_uri": "https://localhost:8080/",
          "height": 333
        },
        "id": "UMM4lai_6g_m",
        "outputId": "a8e231a2-8862-467d-aba2-052741cdcc83"
      },
      "source": [
        "plt.hist(legal_moves_count)"
      ],
      "execution_count": 22,
      "outputs": [
        {
          "output_type": "execute_result",
          "data": {
            "text/plain": [
              "(array([3.27770e+04, 1.13990e+04, 4.30960e+04, 1.00737e+05, 1.13996e+05,\n",
              "        4.01000e+04, 6.47100e+03, 2.77000e+02, 1.20000e+01, 3.00000e+00]),\n",
              " array([ 0. ,  8.5, 17. , 25.5, 34. , 42.5, 51. , 59.5, 68. , 76.5, 85. ]),\n",
              " <a list of 10 Patch objects>)"
            ]
          },
          "metadata": {
            "tags": []
          },
          "execution_count": 22
        },
        {
          "output_type": "display_data",
          "data": {
            "image/png": "[encoded data removed]",
            "text/plain": [
              "<Figure size 432x288 with 1 Axes>"
            ]
          },
          "metadata": {
            "tags": [],
            "needs_background": "light"
          }
        }
      ]
    },
    {
      "cell_type": "markdown",
      "metadata": {
        "id": "zg2Hw4cQ6ttI"
      },
      "source": [
        "# attakers"
      ]
    },
    {
      "cell_type": "code",
      "metadata": {
        "id": "VuiCbVb56vQo"
      },
      "source": [
        "ctr_attackers = collections.Counter(attackers_count) # attacks_count"
      ],
      "execution_count": 23,
      "outputs": []
    },
    {
      "cell_type": "code",
      "metadata": {
        "colab": {
          "base_uri": "https://localhost:8080/"
        },
        "id": "QOPLJ4bi6x1d",
        "outputId": "812b4ecc-6006-45d5-d0a8-38db05c28696"
      },
      "source": [
        "ctr_attackers"
      ],
      "execution_count": 24,
      "outputs": [
        {
          "output_type": "execute_result",
          "data": {
            "text/plain": [
              "Counter({0: 237504, 1: 85665, 2: 21496, 3: 3777, 4: 410, 5: 15, 6: 1})"
            ]
          },
          "metadata": {
            "tags": []
          },
          "execution_count": 24
        }
      ]
    },
    {
      "cell_type": "code",
      "metadata": {
        "colab": {
          "base_uri": "https://localhost:8080/",
          "height": 333
        },
        "id": "fmhL4B8d7OHP",
        "outputId": "1371f43c-1b9b-49a7-a0c0-2e42e1ecf769"
      },
      "source": [
        "plt.hist(attackers_count)"
      ],
      "execution_count": 25,
      "outputs": [
        {
          "output_type": "execute_result",
          "data": {
            "text/plain": [
              "(array([2.37504e+05, 8.56650e+04, 0.00000e+00, 2.14960e+04, 0.00000e+00,\n",
              "        3.77700e+03, 4.10000e+02, 0.00000e+00, 1.50000e+01, 1.00000e+00]),\n",
              " array([0. , 0.6, 1.2, 1.8, 2.4, 3. , 3.6, 4.2, 4.8, 5.4, 6. ]),\n",
              " <a list of 10 Patch objects>)"
            ]
          },
          "metadata": {
            "tags": []
          },
          "execution_count": 25
        },
        {
          "output_type": "display_data",
          "data": {
            "image/png": "[encoded data removed]",
            "text/plain": [
              "<Figure size 432x288 with 1 Axes>"
            ]
          },
          "metadata": {
            "tags": [],
            "needs_background": "light"
          }
        }
      ]
    },
    {
      "cell_type": "markdown",
      "metadata": {
        "id": "p0ScYbqI7Tw4"
      },
      "source": [
        "# attacks\n"
      ]
    },
    {
      "cell_type": "code",
      "metadata": {
        "id": "tGmI81eT7WFe"
      },
      "source": [
        "ctr_attacks = collections.Counter(attacks_count) "
      ],
      "execution_count": 26,
      "outputs": []
    },
    {
      "cell_type": "code",
      "metadata": {
        "colab": {
          "base_uri": "https://localhost:8080/"
        },
        "id": "ogLzpH_07Yl4",
        "outputId": "25236a8c-cfc7-448f-cbb8-f9f8d72fc0db"
      },
      "source": [
        "ctr_attacks"
      ],
      "execution_count": 27,
      "outputs": [
        {
          "output_type": "execute_result",
          "data": {
            "text/plain": [
              "Counter({0: 153770,\n",
              "         1: 125969,\n",
              "         2: 47302,\n",
              "         3: 16096,\n",
              "         4: 4507,\n",
              "         5: 1056,\n",
              "         6: 153,\n",
              "         7: 15})"
            ]
          },
          "metadata": {
            "tags": []
          },
          "execution_count": 27
        }
      ]
    },
    {
      "cell_type": "code",
      "metadata": {
        "colab": {
          "base_uri": "https://localhost:8080/",
          "height": 335
        },
        "id": "TxLIrX1K7Zd0",
        "outputId": "5ef06747-4f5d-4200-c952-31af24ab8a89"
      },
      "source": [
        "plt.hist(attacks_count)"
      ],
      "execution_count": 28,
      "outputs": [
        {
          "output_type": "execute_result",
          "data": {
            "text/plain": [
              "(array([1.53770e+05, 1.25969e+05, 4.73020e+04, 0.00000e+00, 1.60960e+04,\n",
              "        4.50700e+03, 0.00000e+00, 1.05600e+03, 1.53000e+02, 1.50000e+01]),\n",
              " array([0. , 0.7, 1.4, 2.1, 2.8, 3.5, 4.2, 4.9, 5.6, 6.3, 7. ]),\n",
              " <a list of 10 Patch objects>)"
            ]
          },
          "metadata": {
            "tags": []
          },
          "execution_count": 28
        },
        {
          "output_type": "display_data",
          "data": {
            "image/png": "[encoded data removed]",
            "text/plain": [
              "<Figure size 432x288 with 1 Axes>"
            ]
          },
          "metadata": {
            "tags": [],
            "needs_background": "light"
          }
        }
      ]
    },
    {
      "cell_type": "markdown",
      "metadata": {
        "id": "MMQHLkXUbsc5"
      },
      "source": [
        "# comment"
      ]
    },
    {
      "cell_type": "code",
      "metadata": {
        "colab": {
          "base_uri": "https://localhost:8080/"
        },
        "id": "7IlZ9zq0C4p9",
        "outputId": "a9a7cde2-4bcc-4810-88af-80800d634482"
      },
      "source": [
        "sum(len_comment)/total"
      ],
      "execution_count": 29,
      "outputs": [
        {
          "output_type": "execute_result",
          "data": {
            "text/plain": [
              "20.706226997030395"
            ]
          },
          "metadata": {
            "tags": []
          },
          "execution_count": 29
        }
      ]
    },
    {
      "cell_type": "code",
      "metadata": {
        "id": "p07s4iFaCHTi"
      },
      "source": [
        "ctr_comment = collections.Counter(len_comment)"
      ],
      "execution_count": 30,
      "outputs": []
    },
    {
      "cell_type": "code",
      "metadata": {
        "id": "X9IXk2UhCUcq"
      },
      "source": [
        "ctr_comment"
      ],
      "execution_count": null,
      "outputs": []
    },
    {
      "cell_type": "code",
      "metadata": {
        "colab": {
          "base_uri": "https://localhost:8080/",
          "height": 350
        },
        "id": "zUZ4RhueCdip",
        "outputId": "b66e7592-777a-4406-c37e-850634acadd0"
      },
      "source": [
        "plt.hist([l for l in len_comment if l<150])"
      ],
      "execution_count": 32,
      "outputs": [
        {
          "output_type": "execute_result",
          "data": {
            "text/plain": [
              "(array([200505.,  79946.,  32837.,  15168.,   7476.,   4475.,   2732.,\n",
              "          1717.,   1098.,    777.]),\n",
              " array([  1. ,  15.8,  30.6,  45.4,  60.2,  75. ,  89.8, 104.6, 119.4,\n",
              "        134.2, 149. ]),\n",
              " <a list of 10 Patch objects>)"
            ]
          },
          "metadata": {
            "tags": []
          },
          "execution_count": 32
        },
        {
          "output_type": "display_data",
          "data": {
            "image/png": "[encoded data removed]",
            "text/plain": [
              "<Figure size 432x288 with 1 Axes>"
            ]
          },
          "metadata": {
            "tags": [],
            "needs_background": "light"
          }
        }
      ]
    },
    {
      "cell_type": "markdown",
      "metadata": {
        "id": "vgnp6R50bwPo"
      },
      "source": [
        "# words"
      ]
    },
    {
      "cell_type": "code",
      "metadata": {
        "id": "d_o-4PpXCdbM"
      },
      "source": [
        "word_frequencies = collections.defaultdict(int)"
      ],
      "execution_count": 33,
      "outputs": []
    },
    {
      "cell_type": "code",
      "metadata": {
        "id": "x6nDGtY_HVlh"
      },
      "source": [
        "for data_object in data:\n",
        "  (FEN, moves, last_move_desc, legal_moves, attackers_list, attacks_list, comment) = data_object\n",
        "  words = comment.split(' ')\n",
        "  for word in words:\n",
        "    word_frequencies[word]+=1"
      ],
      "execution_count": 34,
      "outputs": []
    },
    {
      "cell_type": "code",
      "metadata": {
        "colab": {
          "base_uri": "https://localhost:8080/"
        },
        "id": "_BYnDRRJIcfR",
        "outputId": "06820440-008e-4cd4-b945-815ca9a9b4a2"
      },
      "source": [
        "len(word_frequencies.keys())"
      ],
      "execution_count": 35,
      "outputs": [
        {
          "output_type": "execute_result",
          "data": {
            "text/plain": [
              "236981"
            ]
          },
          "metadata": {
            "tags": []
          },
          "execution_count": 35
        }
      ]
    },
    {
      "cell_type": "code",
      "metadata": {
        "id": "on7ot-6qIokx"
      },
      "source": [
        "freqThreshold = 3 \n",
        "rareWords = []"
      ],
      "execution_count": 36,
      "outputs": []
    },
    {
      "cell_type": "code",
      "metadata": {
        "id": "1U0XfwsGIfcP"
      },
      "source": [
        "for word,freq in word_frequencies.items():\n",
        "    if freq>freqThreshold:\n",
        "      pass\n",
        "    else:\n",
        "      rareWords.append(word)"
      ],
      "execution_count": 37,
      "outputs": []
    },
    {
      "cell_type": "code",
      "metadata": {
        "colab": {
          "base_uri": "https://localhost:8080/"
        },
        "id": "ntfTLZWQKAeo",
        "outputId": "220d20fd-eb6f-4fab-fa8e-0402ee92a9ac"
      },
      "source": [
        "len(rareWords)"
      ],
      "execution_count": 38,
      "outputs": [
        {
          "output_type": "execute_result",
          "data": {
            "text/plain": [
              "196452"
            ]
          },
          "metadata": {
            "tags": []
          },
          "execution_count": 38
        }
      ]
    },
    {
      "cell_type": "code",
      "metadata": {
        "colab": {
          "base_uri": "https://localhost:8080/"
        },
        "id": "Yx_MmbPJIykw",
        "outputId": "d73d4db9-688e-4246-9cd1-23bc9609aaf1"
      },
      "source": [
        "rareWords"
      ],
      "execution_count": 39,
      "outputs": [
        {
          "output_type": "execute_result",
          "data": {
            "text/plain": [
              "['disruptions,',\n",
              " '4-to-3',\n",
              " 'digest,',\n",
              " 'accomodate',\n",
              " 'nxp+',\n",
              " 'qxq#',\n",
              " '88.rd3!!',\n",
              " '89.h7',\n",
              " '90.h8=q',\n",
              " 'perpetual:',\n",
              " '90...qf3+',\n",
              " '91.kh2',\n",
              " '92.kh1',\n",
              " 'etc.\\r\\nthe',\n",
              " 'relieved!!!',\n",
              " 'it...thanks',\n",
              " 'bro!',\n",
              " '\"lawnmower.\"\\n',\n",
              " 'mnove',\n",
              " '6.nxf6',\n",
              " '?!this',\n",
              " 'livre.',\n",
              " '10...bc5',\n",
              " 'looms,',\n",
              " '11.nxc6...',\n",
              " '11...dxc6',\n",
              " 'chessistic',\n",
              " '(however',\n",
              " '6...ng4',\n",
              " 'follow-up;',\n",
              " 'ambition;',\n",
              " 'cliff.',\n",
              " '0:04:20]',\n",
              " 'sense!',\n",
              " 'kickable,',\n",
              " 'fxh4,',\n",
              " 'clue,',\n",
              " 'come?\\n',\n",
              " 'options-',\n",
              " '1.)',\n",
              " 'problems.\\r\\nplease',\n",
              " 'infrastructure',\n",
              " 'fashion!',\n",
              " '16...f4!',\n",
              " '17.exf',\n",
              " '-qd7!',\n",
              " 'evatuly',\n",
              " 'moves.]\\n',\n",
              " 'smatra',\n",
              " 'čak',\n",
              " 'nepreciznošću',\n",
              " '(zato',\n",
              " 'verujem',\n",
              " 'kompjuteru),',\n",
              " 'izgubio',\n",
              " 'bd6+\\r\\n\\r\\nthere',\n",
              " 'bishop!!!\\r\\n',\n",
              " '22.kxe3,qg3+23.ke2,qxg2,',\n",
              " 'fxg6+',\n",
              " 'nfg3',\n",
              " 'guarda,',\n",
              " 'cosí',\n",
              " 'lui!',\n",
              " 'obvious?',\n",
              " 'ellison',\n",
              " 'q-k1,',\n",
              " '27...bxf1',\n",
              " 'check!?',\n",
              " 'evt.',\n",
              " 'paaltjes,',\n",
              " 'doorslaan',\n",
              " 'beter)',\n",
              " 'attack\\nhttps://en.wikipedia.org/wiki/ruy_lopez#marshall_attack',\n",
              " 'stengthening',\n",
              " 'kf3?',\n",
              " '14....0-0',\n",
              " 'rf-c8',\n",
              " '17.\"\\n',\n",
              " '10.qxh5.',\n",
              " '0.86/19',\n",
              " '16.de',\n",
              " '\\n(16.dxe5',\n",
              " 'bf7\\n(19...c6',\n",
              " '20.f3)\\n20.e6',\n",
              " '22.nc5\\n(22.qe5',\n",
              " '23.bxh6',\n",
              " '24.nxf6\\n(24.bg5',\n",
              " 'bg4)\\n24...bxf6',\n",
              " '25.qh5\\n(25.qh2',\n",
              " '26.qxh3',\n",
              " '27.c3',\n",
              " '28.bxc3',\n",
              " 'qf6)\\n25...be6',\n",
              " '27.bxb4',\n",
              " '28.rae1\\n(28.bxf8',\n",
              " '29.rxa1',\n",
              " '30.qe5',\n",
              " 're8)\\n28...rf5)\\n22...bf5',\n",
              " '23.ba4\\n(23.qxb4',\n",
              " 'ng5)\\n23...qd6',\n",
              " ')\\n(16.d5',\n",
              " '17.nfd2',\n",
              " '18.bxd4',\n",
              " '19.nxe4',\n",
              " 'clumsy)',\n",
              " 'necesitan',\n",
              " 'disminuir',\n",
              " 'negras.\\n',\n",
              " 'bishop-d3',\n",
              " 'concurrent',\n",
              " 'input!',\n",
              " '11...rb8',\n",
              " '13.nxd6!',\n",
              " '13...qxd6',\n",
              " '14.bf4',\n",
              " '13.kf1',\n",
              " 'casling',\n",
              " 'check.this',\n",
              " 'follows:\\r\\n\\r\\n23',\n",
              " 'cxb8!)\\r\\n26',\n",
              " 'bd6!\\r\\n\\r\\n23',\n",
              " '(24',\n",
              " 'qa7!)',\n",
              " 'ne4!!',\n",
              " '(0.63)',\n",
              " 'analysis\",',\n",
              " 'advantge',\n",
              " 'english!\\n',\n",
              " 'prolongar',\n",
              " 'agonía.',\n",
              " 'contrarrestado',\n",
              " 'pesado',\n",
              " 'losa.',\n",
              " '(nf3+)',\n",
              " 'owed.',\n",
              " '21.bd6',\n",
              " '22.nc5',\n",
              " '23.nd4',\n",
              " '24.nde6',\n",
              " '25.bxb8',\n",
              " '26.nxg7',\n",
              " '20.rd3',\n",
              " '21.rfd1',\n",
              " '22.rxd7',\n",
              " '23.fxe3',\n",
              " '24.rxd7',\n",
              " '25.bxc5',\n",
              " '26.kf2,',\n",
              " 'here.i',\n",
              " 'king.but',\n",
              " 'board.been',\n",
              " 'myself.his',\n",
              " 'crosshairs.',\n",
              " 'necesarry.',\n",
              " 'necesarry',\n",
              " 'nc3-e2-d4-c6.',\n",
              " '(e3)',\n",
              " 'cross-castling',\n",
              " 'rxh6#',\n",
              " 'developping.\\n',\n",
              " 'necesario,',\n",
              " '30.kf1,',\n",
              " '30...rh1+...',\n",
              " '-0.74/26',\n",
              " '(qxb6)\\n',\n",
              " \"raymond's\",\n",
              " '11...g4',\n",
              " 'at]\\r\\nthis',\n",
              " 'attack\\r\\n',\n",
              " '2...e3',\n",
              " '2...nh6.',\n",
              " 'manoveur',\n",
              " 'ne4-nf6',\n",
              " 'possiblilies',\n",
              " 'ne2-nf4,',\n",
              " '\\r\\n\\r\\nthere',\n",
              " 'ne2-nf4',\n",
              " '...bd5.',\n",
              " 'baited.',\n",
              " 'paticularly',\n",
              " '<14.e3>',\n",
              " '14...be7',\n",
              " 'nxd6+\\n',\n",
              " 'flip.',\n",
              " '(qe2',\n",
              " 'bad-a',\n",
              " 'slow.19.a4',\n",
              " 'thoguth',\n",
              " 'munitions',\n",
              " ';°',\n",
              " 'harm...',\n",
              " '(maybe!).',\n",
              " 'necassary,',\n",
              " 'better:)',\n",
              " 'ahead!!',\n",
              " 'sacrificed!',\n",
              " 'boldly,',\n",
              " 'nay,',\n",
              " 'heroically',\n",
              " 'tread.',\n",
              " 'gasps',\n",
              " 'audacity',\n",
              " 'material,however',\n",
              " 'deffended',\n",
              " 'rxd4!?',\n",
              " 'bxh7?!',\n",
              " 'materialwise.',\n",
              " '11.qe3',\n",
              " 'preferred.\\n',\n",
              " 'trgets',\n",
              " 'sweatted',\n",
              " 'a8...ho',\n",
              " 'mangiando',\n",
              " 'risky;',\n",
              " '…qe7)',\n",
              " '…qe7',\n",
              " '34...,γ6?!\\nκαλύτερο',\n",
              " 'ιγ3+',\n",
              " 'characterising',\n",
              " 'else?\\n\\nn8d7',\n",
              " 'etc...\\n',\n",
              " '9...n-n3.',\n",
              " 'b-pawn...\\n',\n",
              " \"won't...\",\n",
              " 'won....',\n",
              " 'bollocks.!',\n",
              " 'traceable',\n",
              " '...d6]',\n",
              " 'itchin',\n",
              " 'rg7#.',\n",
              " 'trade),',\n",
              " '(wing',\n",
              " 'heems',\n",
              " 'position\\r\\n2.',\n",
              " 'position\\r\\n\\r\\nas',\n",
              " 'you\\r\\n1.',\n",
              " 'peices\\r\\n2.',\n",
              " 'elimenate',\n",
              " 'scared!',\n",
              " 'championships.',\n",
              " 'ke6!',\n",
              " 'colpi',\n",
              " 'aspettavano',\n",
              " 'dxa2,',\n",
              " 'df5...',\n",
              " \"\\nl'alternativa\",\n",
              " 'presagire',\n",
              " 'buono.',\n",
              " 'analizzare,',\n",
              " 'trucchi',\n",
              " 'fidarmi.',\n",
              " 'portato,',\n",
              " 'colpa',\n",
              " 'b8!),',\n",
              " 'precedente.',\n",
              " 'opportunity;had',\n",
              " 'rook,i',\n",
              " 'haveallongated',\n",
              " 'lose.instead,',\n",
              " 'be3#',\n",
              " '...\\th5',\n",
              " '\\r\\n38.rh4',\n",
              " '\\trg5!',\n",
              " '\\r\\n39.ne2',\n",
              " '\\tkd6!',\n",
              " '\\r\\n40.ke3',\n",
              " '\\ta6',\n",
              " '\\r\\n41.kf2',\n",
              " '\\trf5',\n",
              " '\\r\\n\\r\\n9k',\n",
              " 'nb3-d2-f1-g3-xf5.',\n",
              " 'rhe4',\n",
              " 'dissolved',\n",
              " 'march!',\n",
              " 'g4...\\n',\n",
              " 'af6xh8.',\n",
              " 'blanco.\\n',\n",
              " '0:02:38]\\n',\n",
              " '5.02/18',\n",
              " 'ofers',\n",
              " 'p-n3?',\n",
              " 'rpxr',\n",
              " 'b-q4!)',\n",
              " 'hungry..',\n",
              " '\\n\\n22.bxc6,',\n",
              " 'king.\\nnow',\n",
              " '(15.kxg4',\n",
              " '16.kh5',\n",
              " '17.kg5',\n",
              " '18.kxh6',\n",
              " '19.kg5',\n",
              " 'nh7#)',\n",
              " 'play.........',\n",
              " '_before_',\n",
              " 'plan.)',\n",
              " 'nf1-e3,',\n",
              " 'etc.black',\n",
              " '-now',\n",
              " 'qf2b2',\n",
              " 'e5.\\nif',\n",
              " 'e5.\\nalso',\n",
              " 'evaluating,',\n",
              " '...nor',\n",
              " 'pawn-hunting',\n",
              " 'ac4,',\n",
              " 'tf8.',\n",
              " '\\nma',\n",
              " '\"perso\".',\n",
              " 'obee',\n",
              " 'b7\\r\\n',\n",
              " '30...axb4',\n",
              " '31.axb4',\n",
              " 'simmetry',\n",
              " 'possitive',\n",
              " '2h/40',\n",
              " '...rxb',\n",
              " 'mate.thank',\n",
              " 'game.come',\n",
              " 'soon.oh',\n",
              " 'say.you',\n",
              " 'next.bye',\n",
              " 'bookies',\n",
              " 'slockster/leonidas',\n",
              " 'xerxes/hotshowers',\n",
              " 'listening,',\n",
              " '15.h4,',\n",
              " 'ng1?',\n",
              " 'rh8!',\n",
              " 'efforts...their',\n",
              " 'here(other',\n",
              " 'devastation...',\n",
              " '({15:+0.54}',\n",
              " '+=)\\n({15:+3.08}',\n",
              " 'kxf3\\n',\n",
              " 'oversee:',\n",
              " 'bxe3+...',\n",
              " '6.ba4',\n",
              " '7.bb3.',\n",
              " '34...nd7',\n",
              " '\\n\\ne4',\n",
              " 'place;',\n",
              " 'rxh4+,',\n",
              " 'nd1...',\n",
              " 'boot,',\n",
              " 'tony111',\n",
              " '23rd,',\n",
              " 'unfortunately.\\nalternative',\n",
              " 'this]',\n",
              " 'meat:',\n",
              " 'threatned',\n",
              " 'sidles',\n",
              " '-_-',\n",
              " 'nothing...no',\n",
              " 'bf1!!',\n",
              " 'cheated!!',\n",
              " 'damaestro.',\n",
              " 'id=damestro',\n",
              " '\"mating',\n",
              " 'net\".',\n",
              " '12.nxf3,',\n",
              " '12...rxc4.',\n",
              " 'is\\r\\nplease,',\n",
              " 'move,,,',\n",
              " 'dealt...',\n",
              " '29...rxf3,',\n",
              " 'rcc6',\n",
              " 'kp:',\n",
              " 'because:\\r\\n1.',\n",
              " 'worse:\\r\\n2.',\n",
              " 'f1)\\r\\n\\r\\nthis',\n",
              " '500th',\n",
              " 'fate?',\n",
              " '35.a4',\n",
              " 'otherthan',\n",
              " 'nc1\\n',\n",
              " 'chesstico.',\n",
              " 'replicating',\n",
              " 'wedge...',\n",
              " 'use.because',\n",
              " '26...rg1+??,',\n",
              " '27.rxg1',\n",
              " '27...bxg1,',\n",
              " '28.kxg1,',\n",
              " '26...rxh2#',\n",
              " 'falls.\\n',\n",
              " 'hahaaa',\n",
              " ':d:d:d',\n",
              " 'delve!',\n",
              " '(b01)',\n",
              " 'premature)',\n",
              " 'fellow.',\n",
              " 'jab.',\n",
              " '24.d5,',\n",
              " '\"ugly\"',\n",
              " 'beated',\n",
              " 'benefit?',\n",
              " 'pah!',\n",
              " 'duhh',\n",
              " 'rook-lift',\n",
              " 'minaccio',\n",
              " '\"intermezzio\"',\n",
              " 'relived',\n",
              " 'esperanza.',\n",
              " 'creer',\n",
              " 'magos.',\n",
              " '50.rc8',\n",
              " '51.ra2',\n",
              " 'trouble.with',\n",
              " 'reckon...\\n...',\n",
              " 'passer:',\n",
              " '\\n\\n50.a6',\n",
              " '\\n51.rd8',\n",
              " '\\n\\nanalysis',\n",
              " '51.a7:',\n",
              " '52.rxa5',\n",
              " '53...ne3ch',\n",
              " 'ng4ch',\n",
              " '55.kg2',\n",
              " '53.rf8',\n",
              " '53.rg8,',\n",
              " 'ng4ch??',\n",
              " '55.rxg4',\n",
              " '53...na5',\n",
              " '54.a8=q',\n",
              " '\\n\\n53...nb6',\n",
              " '\\n54.a8=q',\n",
              " '\\n55.rgxa8',\n",
              " '\\nshould',\n",
              " '\\n8',\n",
              " 'diagrammed',\n",
              " \"'fortress'\",\n",
              " '51...ne3ch',\n",
              " '\\n52.kh3',\n",
              " '\\n53.rxd5',\n",
              " '53...exd5??',\n",
              " '54.a7.)',\n",
              " '\\n54.a7',\n",
              " '\\n\\n55.g4',\n",
              " '\\n56.kxg4',\n",
              " '\\n57.rd1',\n",
              " '\\nno',\n",
              " 'pussyfooting',\n",
              " '\\n\\n57...ke2',\n",
              " '\\n58.ra1',\n",
              " '58.rxd2ch',\n",
              " '\\n58...',\n",
              " 'd1=qch',\n",
              " '\\n59.rxd1',\n",
              " '\\n60.kf4',\n",
              " '\\n61.ke5',\n",
              " '\\n62.a8=q',\n",
              " '\\n63.kxe6',\n",
              " '\\ndead',\n",
              " 'assumig',\n",
              " 'pa6.',\n",
              " '13...ng4+.',\n",
              " '13...ng4:',\n",
              " 'qf2#)',\n",
              " '+1.4',\n",
              " '17...nb7,',\n",
              " '17...nc4??',\n",
              " 'this?\\r\\nmaibye',\n",
              " 'increíble',\n",
              " 'salmerón',\n",
              " 'incrementado',\n",
              " 'considerablemente',\n",
              " 'reprochar',\n",
              " 'saorín\\n',\n",
              " 'inconsequential,',\n",
              " 'decive',\n",
              " 'a8:q',\n",
              " 'unlinking',\n",
              " 'horsing',\n",
              " '32.......qg2ch.',\n",
              " 'contender...',\n",
              " 'anfter',\n",
              " 'orleans,',\n",
              " 'believe?).',\n",
              " 'telle',\n",
              " 'est-elle',\n",
              " 'décidé',\n",
              " 'évidemment)',\n",
              " 'prenais',\n",
              " 'réflléchir.',\n",
              " 'réfléchir',\n",
              " \"(c'est\",\n",
              " 'vérité',\n",
              " 'palice,',\n",
              " 'vrai).',\n",
              " 'habituellement,',\n",
              " 'vide',\n",
              " 'réflexions',\n",
              " 'jouer,',\n",
              " 'vérifier',\n",
              " \"d'évident\",\n",
              " 'manqué.',\n",
              " 'visiblement,',\n",
              " \"l'ai\",\n",
              " 'better...never',\n",
              " 'happens)',\n",
              " 'unreasonable.',\n",
              " 'imaginary\"',\n",
              " '(nimzowitch).',\n",
              " '...nh3?',\n",
              " 'judged.',\n",
              " 'black.\\r\\n\\r\\nthank',\n",
              " 'goodbye!',\n",
              " '(doubled)',\n",
              " 'risk?',\n",
              " 'begining.',\n",
              " '[hmmmm.',\n",
              " 'flip.]',\n",
              " 'happily.',\n",
              " 'alldeles',\n",
              " 'bromsa',\n",
              " 'framfart',\n",
              " '+1,78.',\n",
              " '+1,03.',\n",
              " 'cf4.',\n",
              " 'adjudicate',\n",
              " 'witchcraft',\n",
              " 'k.f.',\n",
              " 'kirby,',\n",
              " 'african',\n",
              " 'quarterly\\n',\n",
              " 'retomada',\n",
              " 'willingness,',\n",
              " '11.bxf7,',\n",
              " '\"big',\n",
              " 'miscalculation.\"',\n",
              " '(whereas',\n",
              " 'rf3-h3______17..qg4',\n",
              " 'rf3-h3',\n",
              " 'easily:',\n",
              " 'loses..',\n",
              " 'bd5\\n',\n",
              " 'zsuzsanna',\n",
              " '(susan)',\n",
              " \"judith's\",\n",
              " 'sister.',\n",
              " '...heading',\n",
              " 'nxd6+\\n30...',\n",
              " 'qxg5+\\n',\n",
              " 'tactial',\n",
              " '11.bxe7,',\n",
              " '11...qxe7,',\n",
              " '12.qxe7+,',\n",
              " 'skitter',\n",
              " \"\\nthere's\",\n",
              " '(elephant)',\n",
              " 'f-pawn!',\n",
              " 'to;',\n",
              " 'queen.\\r\\n\\r\\n',\n",
              " '38.rg2',\n",
              " '38...qf1+',\n",
              " '39.kg3',\n",
              " 'jump!',\n",
              " '...without',\n",
              " 'concerns...',\n",
              " 'mean-',\n",
              " 'c7-a5-c3',\n",
              " 'foothold.',\n",
              " '(0)',\n",
              " 'ascertained',\n",
              " 'bianco.\\r\\n(non',\n",
              " 'mossa;',\n",
              " 'prezioso',\n",
              " 'nero;',\n",
              " '7.re8,',\n",
              " 'contestare',\n",
              " 'subito;',\n",
              " 'minacciato',\n",
              " 'appena',\n",
              " 'qxd5),',\n",
              " '.......bg5!!',\n",
              " 'ng4xnh2]',\n",
              " 'kpow!!',\n",
              " 'rebuffing',\n",
              " 'senses,',\n",
              " 'mumbled',\n",
              " 'a2-a4',\n",
              " '..........agreed.........glad',\n",
              " 'castled..good..!!',\n",
              " 'évidemment',\n",
              " 'te2',\n",
              " 'ipv',\n",
              " 'faalt',\n",
              " 'pd2',\n",
              " 'stukwinst',\n",
              " 'pxb1',\n",
              " '{an',\n",
              " 'for}',\n",
              " \"threat...(i'd\",\n",
              " 'practice;',\n",
              " 'nfl,',\n",
              " 'games.\"',\n",
              " 'cruel,',\n",
              " 'queens?!!',\n",
              " 'poissant',\n",
              " 'wildrook28',\n",
              " '0:05:12]',\n",
              " 'pawn!\\nnc6',\n",
              " 'passive.\\ni',\n",
              " '(exd4,',\n",
              " 'nxd4),',\n",
              " 'mattcarr',\n",
              " 'kr�l',\n",
              " 'wladyslaw',\n",
              " '(2423)',\n",
              " 'porkolab',\n",
              " '(2000)',\n",
              " '…b5',\n",
              " '…bb7',\n",
              " 'rxc6:',\n",
              " '\\n\\nstill,',\n",
              " 'orangutan)',\n",
              " 'distraction...',\n",
              " 'bishop\".\\r\\n\\r\\n\\r\\n',\n",
              " 'kasparov-radjabov',\n",
              " '2003',\n",
              " '10...c4?!,',\n",
              " 'nh5!!',\n",
              " 'rfxe8',\n",
              " 'raxe8',\n",
              " 'nf7+.',\n",
              " 'sweetly',\n",
              " 'it........',\n",
              " '(modern',\n",
              " \"list'...\",\n",
              " '21.rxh5',\n",
              " '22.nf6!?',\n",
              " '23...qxf6',\n",
              " '22...qxb3?',\n",
              " '23.rxh7#',\n",
              " '23.f4!?',\n",
              " '24...e3!',\n",
              " 'pawn\\r\\n1-b2\\r\\n2-get',\n",
              " 'kxbe3,',\n",
              " 'bishop,bxc5\\r\\n3-or',\n",
              " 'piece\",',\n",
              " 'hutrry',\n",
              " 'adviser.',\n",
              " 'prety',\n",
              " 'whoa!!!!!',\n",
              " 'benefit).\\nhowever',\n",
              " '-0.18/17',\n",
              " '(nf1)\\n',\n",
              " \"i've,\",\n",
              " \"chesscom's\",\n",
              " 'ncb4.',\n",
              " '13.bb5.',\n",
              " 'idiosyncratic',\n",
              " 'please!).',\n",
              " '....g6,',\n",
              " '....bg7.',\n",
              " '...nxc5',\n",
              " '....nf5.',\n",
              " '22.fxe4,',\n",
              " '25.bf4,',\n",
              " '2.c3.',\n",
              " 'dishing',\n",
              " 'wow----now',\n",
              " 'zooming',\n",
              " 'whom?',\n",
              " 'waiting.......',\n",
              " '-0.75',\n",
              " 'nb4\\nbest:',\n",
              " '-0.00',\n",
              " 'thickens..',\n",
              " 'bare,',\n",
              " 'assasult....even',\n",
              " 'kng4,',\n",
              " 'corner.\\n\\nit',\n",
              " '\"over',\n",
              " 'thinking\"',\n",
              " 'resign.no',\n",
              " 'late!)',\n",
              " 'sorry:',\n",
              " 'accurate...',\n",
              " 'rfc3.',\n",
              " 'rid.',\n",
              " 'mistake--subtle',\n",
              " '29...qd8!',\n",
              " '...qg5+',\n",
              " 'qg2#.\\n',\n",
              " 'nxpf7',\n",
              " 'bone,',\n",
              " '\"computer',\n",
              " '...rxf2+',\n",
              " 'rb1#)',\n",
              " '6...bb7.',\n",
              " '27.qxb5',\n",
              " '27.a3',\n",
              " '27...ba6',\n",
              " '28.qb6,',\n",
              " '29.qc6,',\n",
              " '30.qb5,',\n",
              " 'lurking,',\n",
              " '27.g6',\n",
              " '27...ba6,',\n",
              " '28.nb4',\n",
              " 'mistyped',\n",
              " '27.qxb5,',\n",
              " '27...bf5',\n",
              " '28.qb4',\n",
              " 'commenting,',\n",
              " '[ya',\n",
              " 'cambiará',\n",
              " 'g1=q+',\n",
              " 'qfd1#\\n',\n",
              " 'exellent',\n",
              " '1857,',\n",
              " '4...nbd7,',\n",
              " 'impulsiveness',\n",
              " 'wh',\n",
              " 'stand-up',\n",
              " 'qxf1#.\\nif',\n",
              " 'qxf1#.\\nand',\n",
              " 'everyone,\\n\\nit',\n",
              " 'wtw&lr',\n",
              " 'akjoltoy',\n",
              " '31..qxa3',\n",
              " '32.qxa3',\n",
              " '33.bc7',\n",
              " 'won\\n',\n",
              " '28.gxh4',\n",
              " '29.bg4,',\n",
              " 'point]',\n",
              " 'c4-boost',\n",
              " \"don't......\",\n",
              " '{last',\n",
              " 'move.}',\n",
              " '28...hxg5',\n",
              " 'game.\\r\\nhow',\n",
              " '13...kf5',\n",
              " '(ng3',\n",
              " 'qxh4#)',\n",
              " 'rook-for-bishop',\n",
              " 'furthemore,',\n",
              " \"20'\",\n",
              " '18.ba3',\n",
              " '19.qb2',\n",
              " 'move!!!!!!',\n",
              " 'lock!',\n",
              " 'say.i',\n",
              " 'attack.it',\n",
              " 'black.(he',\n",
              " 'cpawn',\n",
              " 'situation.)',\n",
              " 'quuens,',\n",
              " 'mix-up,',\n",
              " 'fine?',\n",
              " 'needed).',\n",
              " '04673',\n",
              " 'mauchess',\n",
              " 'ke5!',\n",
              " 'a7??,',\n",
              " 'game-compromising',\n",
              " 'leaping.',\n",
              " '21...kg7,',\n",
              " '22.r1xe6!',\n",
              " '23.rd7+',\n",
              " 'anyway...\\nif',\n",
              " 'butty',\n",
              " '11...fxe',\n",
              " '.12.',\n",
              " 'after.12.',\n",
              " 'calculations...',\n",
              " 'windmill,',\n",
              " 'oodles',\n",
              " 'shoot!',\n",
              " 'f1-bishop',\n",
              " '수는',\n",
              " '시간',\n",
              " '낭비',\n",
              " '같은데요.',\n",
              " '...bd7-e8은?',\n",
              " 'worries!',\n",
              " 'htat',\n",
              " '...nc2+,',\n",
              " '20...bxb2?',\n",
              " 'nf6-e4,',\n",
              " 'ne2).',\n",
              " 'persecution',\n",
              " 'bronstien',\n",
              " 'pyschological',\n",
              " 'origional',\n",
              " 'scilian.',\n",
              " 'oppenning',\n",
              " \"nuthin'............\",\n",
              " \"averbakh.'\",\n",
              " 'qxg6.\\n',\n",
              " '*black*',\n",
              " '*my*',\n",
              " 'mates...',\n",
              " 'poison...',\n",
              " 'nc3#.',\n",
              " '(qg4???)',\n",
              " 'qg4???',\n",
              " 'bxg4+,',\n",
              " 'forced!\\n',\n",
              " 'here...the',\n",
              " 'store,',\n",
              " 'prematuro',\n",
              " '7..e5',\n",
              " 'posición.[7...a6',\n",
              " '8.dd2',\n",
              " '9.cc1',\n",
              " '10.cb3',\n",
              " '12.axd4',\n",
              " '13.ae2',\n",
              " 'equilibrada]',\n",
              " 'conntected',\n",
              " 'parts!',\n",
              " 'survivable',\n",
              " 'h4xg5',\n",
              " 'preference?',\n",
              " 'blitz!\\r\\n',\n",
              " '12...nxd4?.13.qa4+',\n",
              " '12...nb4.13.bb5+-nc6.14.d5',\n",
              " '(indeed,',\n",
              " 'quicker),',\n",
              " \"botvinnik's\\nmove\",\n",
              " 'qe5??',\n",
              " 're8+).',\n",
              " 'formalities.',\n",
              " 'increaes',\n",
              " '\"perfect\"',\n",
              " 'r-e6',\n",
              " \"'something\",\n",
              " \"nothing'.\",\n",
              " 'dance.\\nafter',\n",
              " 'nd2-g3,',\n",
              " 'capured',\n",
              " 'half-held',\n",
              " 'blockaded!',\n",
              " '26...gxh5,',\n",
              " '27.rxh5+',\n",
              " '28.qh6,',\n",
              " '(momentary)',\n",
              " '(seen',\n",
              " '15...qxc4.',\n",
              " 'nfd5,',\n",
              " 'many!',\n",
              " 'lost\\n',\n",
              " 'watching..',\n",
              " '16.bb5+',\n",
              " 'unwittingly,',\n",
              " 'nc3-',\n",
              " 'auto',\n",
              " 'amd',\n",
              " 'head?',\n",
              " 'decission',\n",
              " 'superficially:',\n",
              " 'counter-threat,',\n",
              " 'd2-rook',\n",
              " 'slimmest',\n",
              " 'margins',\n",
              " 'common\\r\\n',\n",
              " 're-e7,',\n",
              " '-1.74/18',\n",
              " 'a50',\n",
              " 'systems)',\n",
              " 'becomes..',\n",
              " 'goodnight,',\n",
              " 'morally',\n",
              " 'position..?',\n",
              " 'repéré',\n",
              " 'fourchette',\n",
              " 'plaçais',\n",
              " 'envie',\n",
              " \"d'affaiblir\",\n",
              " 'éventuel',\n",
              " 'of),',\n",
              " 'questionable.if',\n",
              " 'aceptar',\n",
              " '31...rh7,',\n",
              " 'aunque,',\n",
              " 'verdad,',\n",
              " 'prolongado',\n",
              " 'dashed.',\n",
              " 'percent.',\n",
              " 'problem-free',\n",
              " 'defence))',\n",
              " 'pawnrush.',\n",
              " 'yanu',\n",
              " 'canon',\n",
              " 'connect,',\n",
              " 'e....',\n",
              " 'sinply',\n",
              " '14...exf4',\n",
              " '15.rxf4',\n",
              " 'compesation',\n",
              " 'little..',\n",
              " '24.qf6.',\n",
              " '(bxg2',\n",
              " 'kh1.)',\n",
              " 'laskers',\n",
              " 'cards-',\n",
              " 'advantage-and',\n",
              " 'there..............just',\n",
              " 'mate.........lol',\n",
              " 'example...\\n\\n17.',\n",
              " 'off?)',\n",
              " '(-1.16)\\n',\n",
              " 'move.\\nwhat',\n",
              " 'do.\\none',\n",
              " 'f6.\\nfor',\n",
              " 'dxb.',\n",
              " 'nxe5!?,',\n",
              " 'fxn',\n",
              " 'qh5+\\nif',\n",
              " 'material.\\nif',\n",
              " '(qxe5)',\n",
              " 'unable_castling.\\nthat',\n",
              " 'rh7#.\\n',\n",
              " 'icc(',\n",
              " 'correspondence)against',\n",
              " '\"betho\".',\n",
              " '1749',\n",
              " 'icc,',\n",
              " 'uscf.',\n",
              " '1500.',\n",
              " 'gambit(if',\n",
              " 'ownesome.',\n",
              " '19...e4.',\n",
              " '19...f4',\n",
              " '21...qh5?',\n",
              " '...rf5',\n",
              " 'ge2e5]\\n',\n",
              " '?....',\n",
              " 'non-checkable',\n",
              " 'equilibrado,',\n",
              " 'ba2!',\n",
              " 'activ',\n",
              " '31.b5?-kf7.32.bxf6-bd4.33.bxd4-cxd',\n",
              " '2...p-k4',\n",
              " 'chiesto',\n",
              " 'logicamente,',\n",
              " 'rifiutata.',\n",
              " '(h4-h5',\n",
              " 'qc2-a2',\n",
              " 'qa2-c2',\n",
              " 'kg7-h8',\n",
              " 'kh8-h7',\n",
              " 'kh1-h2',\n",
              " 'here.he',\n",
              " '-1.63',\n",
              " '33.rd1',\n",
              " '35.rhf1',\n",
              " '36.rf2',\n",
              " '38.qxb5',\n",
              " '39.rxf8+',\n",
              " '40.rf1+',\n",
              " '41.nc4',\n",
              " '42.kxh2\\nbest:',\n",
              " '-0.99',\n",
              " '33.rd3',\n",
              " '35.gxf4',\n",
              " '36.rf1',\n",
              " '37.rd2',\n",
              " '38.qd3',\n",
              " '39.qxb5',\n",
              " '40.ke2',\n",
              " 'bd6),',\n",
              " 'nxe6#',\n",
              " 'squirming',\n",
              " '18...bxe3+',\n",
              " '19.kb1.',\n",
              " '19...qf6',\n",
              " 'rxe6)',\n",
              " 'wins.\\nthis',\n",
              " '“oh-oh.”',\n",
              " 'cheerless',\n",
              " 'bd3?,',\n",
              " 'drawing/losing',\n",
              " 'developming',\n",
              " '34...re8,',\n",
              " 'implications,',\n",
              " 'plead',\n",
              " 'harboured',\n",
              " 'expertdom.',\n",
              " '1857',\n",
              " '1809.',\n",
              " '1950+',\n",
              " 'blame.',\n",
              " 'chime',\n",
              " 'victory....\\n\\n\\n\\n\\nactually',\n",
              " 'diatribe',\n",
              " 'deserves,',\n",
              " 'page,',\n",
              " 'flavor',\n",
              " 'frazier!!\"',\n",
              " 'nathan.\\r\\nhe',\n",
              " 'cosas]',\n",
              " '????????????????????????????',\n",
              " 'openingsmove,',\n",
              " '189000',\n",
              " '+2,88',\n",
              " 'inser',\n",
              " ...]"
            ]
          },
          "metadata": {
            "tags": []
          },
          "execution_count": 39
        }
      ]
    },
    {
      "cell_type": "markdown",
      "metadata": {
        "id": "tFfPUB9qGQgC"
      },
      "source": [
        "chess words\n"
      ]
    },
    {
      "cell_type": "code",
      "metadata": {
        "id": "CGlviMRauyZi"
      },
      "source": [
        "board_notation = []\n",
        "col_names = 'abcdefgh'\n",
        "row_names = '87654321'\n",
        "for col in col_names:\n",
        "  for row in row_names:\n",
        "    board_notation.append(col+row)"
      ],
      "execution_count": 40,
      "outputs": []
    },
    {
      "cell_type": "code",
      "metadata": {
        "id": "ie39Dqh6uBpZ"
      },
      "source": [
        "chess_words = ['king', 'queen', 'rook', 'bishop', 'knight', 'pawn', \n",
        "               'check', 'checkmate', 'stalemate', 'resign', \n",
        "               'castle', 'castling', 'passant', 'promotion',\n",
        "               'rank', 'file',\n",
        "               'opening', 'ending', 'endgame',\n",
        "               'attack', 'threat', 'defence',\n",
        "               'win', 'lose',\n",
        "               'illegal', 'legal',\n",
        "               'kingside', 'queenside', 'pin',\n",
        "               'open', 'closed', 'gambit', 'isolated']"
      ],
      "execution_count": 41,
      "outputs": []
    },
    {
      "cell_type": "code",
      "metadata": {
        "id": "mD5uHBwv91rA"
      },
      "source": [
        "other_words = ['move', 'moves', 'moving', \n",
        "               'position', 'game', 'opponent', 'lost', 'diagonal',\n",
        "               \"white's\", \"black's\", 'piece', 'pieces', \n",
        "               'attacking', 'threatening', 'defend', 'threaten', 'defending', 'defense', 'protecting',\n",
        "               'forced', 'force', 'free', 'forcing', 'safe', \n",
        "               'protect', 'prevent', 'sacrifice',\n",
        "               'advantage', 'advance', 'developing', 'develop', 'development', 'developed',\n",
        "               'board', 'square', 'squares', 'tempo', 'mistake', 'capture', 'fork', 'centre',  'center']"
      ],
      "execution_count": 42,
      "outputs": []
    },
    {
      "cell_type": "code",
      "metadata": {
        "id": "3MxyiuXTu4XH"
      },
      "source": [
        "words = board_notation + chess_words + other_words"
      ],
      "execution_count": 43,
      "outputs": []
    },
    {
      "cell_type": "code",
      "metadata": {
        "id": "gLZMvD480_e6"
      },
      "source": [
        "chess_frequencies = {key: word_frequencies[key] for key in words}"
      ],
      "execution_count": 44,
      "outputs": []
    },
    {
      "cell_type": "code",
      "metadata": {
        "colab": {
          "base_uri": "https://localhost:8080/"
        },
        "id": "I5iV9ub2GUL_",
        "outputId": "e401cebc-e5a2-4304-9c75-1ea424ddc5ca"
      },
      "source": [
        "chess_frequencies"
      ],
      "execution_count": 45,
      "outputs": [
        {
          "output_type": "execute_result",
          "data": {
            "text/plain": [
              "{'a1': 481,\n",
              " 'a2': 502,\n",
              " 'a3': 1102,\n",
              " 'a4': 1269,\n",
              " 'a5': 1210,\n",
              " 'a6': 1170,\n",
              " 'a7': 432,\n",
              " 'a8': 390,\n",
              " 'advance': 2784,\n",
              " 'advantage': 5928,\n",
              " 'attack': 15303,\n",
              " 'attacking': 6931,\n",
              " 'b1': 300,\n",
              " 'b2': 1027,\n",
              " 'b3': 1153,\n",
              " 'b4': 1815,\n",
              " 'b5': 2103,\n",
              " 'b6': 1063,\n",
              " 'b7': 966,\n",
              " 'b8': 269,\n",
              " 'bishop': 28285,\n",
              " \"black's\": 13905,\n",
              " 'board': 2358,\n",
              " 'c1': 423,\n",
              " 'c2': 886,\n",
              " 'c3': 2209,\n",
              " 'c4': 2678,\n",
              " 'c5': 2587,\n",
              " 'c6': 1959,\n",
              " 'c7': 887,\n",
              " 'c8': 484,\n",
              " 'capture': 3082,\n",
              " 'castle': 4418,\n",
              " 'castling': 2498,\n",
              " 'center': 4957,\n",
              " 'centre': 2187,\n",
              " 'check': 5798,\n",
              " 'checkmate': 1661,\n",
              " 'closed': 857,\n",
              " 'd1': 391,\n",
              " 'd2': 681,\n",
              " 'd3': 1481,\n",
              " 'd4': 4570,\n",
              " 'd5': 4384,\n",
              " 'd6': 2208,\n",
              " 'd7': 862,\n",
              " 'd8': 412,\n",
              " 'defence': 1732,\n",
              " 'defend': 4219,\n",
              " 'defending': 2516,\n",
              " 'defense': 2467,\n",
              " 'develop': 3852,\n",
              " 'developed': 1554,\n",
              " 'developing': 3190,\n",
              " 'development': 3822,\n",
              " 'diagonal': 3110,\n",
              " 'e1': 391,\n",
              " 'e2': 686,\n",
              " 'e3': 1406,\n",
              " 'e4': 4353,\n",
              " 'e5': 4963,\n",
              " 'e6': 2129,\n",
              " 'e7': 906,\n",
              " 'e8': 393,\n",
              " 'endgame': 1487,\n",
              " 'ending': 644,\n",
              " 'f1': 462,\n",
              " 'f2': 1076,\n",
              " 'f3': 2018,\n",
              " 'f4': 2355,\n",
              " 'f5': 2258,\n",
              " 'f6': 2293,\n",
              " 'f7': 1717,\n",
              " 'f8': 484,\n",
              " 'file': 3734,\n",
              " 'force': 2870,\n",
              " 'forced': 3925,\n",
              " 'forcing': 2308,\n",
              " 'fork': 2471,\n",
              " 'free': 3445,\n",
              " 'g1': 248,\n",
              " 'g2': 904,\n",
              " 'g3': 1388,\n",
              " 'g4': 1895,\n",
              " 'g5': 1805,\n",
              " 'g6': 1735,\n",
              " 'g7': 1078,\n",
              " 'g8': 265,\n",
              " 'gambit': 1727,\n",
              " 'game': 16947,\n",
              " 'h1': 316,\n",
              " 'h2': 501,\n",
              " 'h3': 1423,\n",
              " 'h4': 1267,\n",
              " 'h5': 1326,\n",
              " 'h6': 1447,\n",
              " 'h7': 710,\n",
              " 'h8': 402,\n",
              " 'illegal': 31,\n",
              " 'isolated': 1129,\n",
              " 'king': 22659,\n",
              " 'kingside': 4036,\n",
              " 'knight': 31490,\n",
              " 'legal': 128,\n",
              " 'lose': 4309,\n",
              " 'lost': 3753,\n",
              " 'mistake': 2805,\n",
              " 'move': 43011,\n",
              " 'moves': 11334,\n",
              " 'moving': 3604,\n",
              " 'open': 8316,\n",
              " 'opening': 6764,\n",
              " 'opponent': 6567,\n",
              " 'passant': 88,\n",
              " 'pawn': 48530,\n",
              " 'piece': 6728,\n",
              " 'pieces': 8990,\n",
              " 'pin': 3435,\n",
              " 'position': 11006,\n",
              " 'prevent': 3396,\n",
              " 'promotion': 539,\n",
              " 'protect': 3302,\n",
              " 'protecting': 2213,\n",
              " 'queen': 26372,\n",
              " 'queenside': 3459,\n",
              " 'rank': 1834,\n",
              " 'resign': 524,\n",
              " 'rook': 21495,\n",
              " 'sacrifice': 2078,\n",
              " 'safe': 2137,\n",
              " 'square': 6072,\n",
              " 'squares': 2391,\n",
              " 'stalemate': 147,\n",
              " 'tempo': 2884,\n",
              " 'threat': 5346,\n",
              " 'threaten': 1649,\n",
              " 'threatening': 5912,\n",
              " \"white's\": 13749,\n",
              " 'win': 7448}"
            ]
          },
          "metadata": {
            "tags": []
          },
          "execution_count": 45
        }
      ]
    },
    {
      "cell_type": "code",
      "metadata": {
        "id": "65r8fTfK2or_"
      },
      "source": [
        "sorted_keys = sorted(chess_frequencies, key=chess_frequencies.get, reverse=True)"
      ],
      "execution_count": 46,
      "outputs": []
    },
    {
      "cell_type": "code",
      "metadata": {
        "colab": {
          "base_uri": "https://localhost:8080/"
        },
        "id": "1vp_FL5jG5RO",
        "outputId": "ccf55373-02aa-4b50-c06b-783bbe5d6ac0"
      },
      "source": [
        "sorted_keys"
      ],
      "execution_count": 47,
      "outputs": [
        {
          "output_type": "execute_result",
          "data": {
            "text/plain": [
              "['pawn',\n",
              " 'move',\n",
              " 'knight',\n",
              " 'bishop',\n",
              " 'queen',\n",
              " 'king',\n",
              " 'rook',\n",
              " 'game',\n",
              " 'attack',\n",
              " \"black's\",\n",
              " \"white's\",\n",
              " 'moves',\n",
              " 'position',\n",
              " 'pieces',\n",
              " 'open',\n",
              " 'win',\n",
              " 'attacking',\n",
              " 'opening',\n",
              " 'piece',\n",
              " 'opponent',\n",
              " 'square',\n",
              " 'advantage',\n",
              " 'threatening',\n",
              " 'check',\n",
              " 'threat',\n",
              " 'e5',\n",
              " 'center',\n",
              " 'd4',\n",
              " 'castle',\n",
              " 'd5',\n",
              " 'e4',\n",
              " 'lose',\n",
              " 'defend',\n",
              " 'kingside',\n",
              " 'forced',\n",
              " 'develop',\n",
              " 'development',\n",
              " 'lost',\n",
              " 'file',\n",
              " 'moving',\n",
              " 'queenside',\n",
              " 'free',\n",
              " 'pin',\n",
              " 'prevent',\n",
              " 'protect',\n",
              " 'developing',\n",
              " 'diagonal',\n",
              " 'capture',\n",
              " 'tempo',\n",
              " 'force',\n",
              " 'mistake',\n",
              " 'advance',\n",
              " 'c4',\n",
              " 'c5',\n",
              " 'defending',\n",
              " 'castling',\n",
              " 'fork',\n",
              " 'defense',\n",
              " 'squares',\n",
              " 'board',\n",
              " 'f4',\n",
              " 'forcing',\n",
              " 'f6',\n",
              " 'f5',\n",
              " 'protecting',\n",
              " 'c3',\n",
              " 'd6',\n",
              " 'centre',\n",
              " 'safe',\n",
              " 'e6',\n",
              " 'b5',\n",
              " 'sacrifice',\n",
              " 'f3',\n",
              " 'c6',\n",
              " 'g4',\n",
              " 'rank',\n",
              " 'b4',\n",
              " 'g5',\n",
              " 'g6',\n",
              " 'defence',\n",
              " 'gambit',\n",
              " 'f7',\n",
              " 'checkmate',\n",
              " 'threaten',\n",
              " 'developed',\n",
              " 'endgame',\n",
              " 'd3',\n",
              " 'h6',\n",
              " 'h3',\n",
              " 'e3',\n",
              " 'g3',\n",
              " 'h5',\n",
              " 'a4',\n",
              " 'h4',\n",
              " 'a5',\n",
              " 'a6',\n",
              " 'b3',\n",
              " 'isolated',\n",
              " 'a3',\n",
              " 'g7',\n",
              " 'f2',\n",
              " 'b6',\n",
              " 'b2',\n",
              " 'b7',\n",
              " 'e7',\n",
              " 'g2',\n",
              " 'c7',\n",
              " 'c2',\n",
              " 'd7',\n",
              " 'closed',\n",
              " 'h7',\n",
              " 'e2',\n",
              " 'd2',\n",
              " 'ending',\n",
              " 'promotion',\n",
              " 'resign',\n",
              " 'a2',\n",
              " 'h2',\n",
              " 'c8',\n",
              " 'f8',\n",
              " 'a1',\n",
              " 'f1',\n",
              " 'a7',\n",
              " 'c1',\n",
              " 'd8',\n",
              " 'h8',\n",
              " 'e8',\n",
              " 'd1',\n",
              " 'e1',\n",
              " 'a8',\n",
              " 'h1',\n",
              " 'b1',\n",
              " 'b8',\n",
              " 'g8',\n",
              " 'g1',\n",
              " 'stalemate',\n",
              " 'legal',\n",
              " 'passant',\n",
              " 'illegal']"
            ]
          },
          "metadata": {
            "tags": []
          },
          "execution_count": 47
        }
      ]
    }
  ]
}