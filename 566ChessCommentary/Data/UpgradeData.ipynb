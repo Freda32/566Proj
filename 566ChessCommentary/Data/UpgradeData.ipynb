{
  "nbformat": 4,
  "nbformat_minor": 0,
  "metadata": {
    "colab": {
      "name": "upgrade_data.ipynb",
      "provenance": [],
      "collapsed_sections": [
        "oSR6ZkOjdi78",
        "NJZ1CV6LdnGR",
        "ZXv54GLcd1GQ",
        "fC74wxJ2eN0h"
      ],
      "toc_visible": true
    },
    "kernelspec": {
      "name": "python3",
      "display_name": "Python 3"
    }
  },
  "cells": [
    {
      "cell_type": "markdown",
      "metadata": {
        "id": "oSR6ZkOjdi78"
      },
      "source": [
        "# load"
      ]
    },
    {
      "cell_type": "code",
      "metadata": {
        "id": "AdBu1QoIj_qu"
      },
      "source": [
        "import pickle"
      ],
      "execution_count": 1,
      "outputs": []
    },
    {
      "cell_type": "code",
      "metadata": {
        "id": "Wyqpol6xdV3h",
        "colab": {
          "base_uri": "https://localhost:8080/"
        },
        "outputId": "21af55d4-02fa-4ae6-d906-4a49f0cd1cad"
      },
      "source": [
        "\n",
        "from google.colab import drive\n",
        "drive.mount('/content/drive')"
      ],
      "execution_count": 2,
      "outputs": [
        {
          "output_type": "stream",
          "text": [
            "Drive already mounted at /content/drive; to attempt to forcibly remount, call drive.mount(\"/content/drive\", force_remount=True).\n"
          ],
          "name": "stdout"
        }
      ]
    },
    {
      "cell_type": "code",
      "metadata": {
        "id": "RZsvsqIjdZN5"
      },
      "source": [
        "BASE_PATH = '/content/drive/MyDrive/NLP/Data/'\n",
        "games_data_path = BASE_PATH + 'FEN/games_data'\n",
        "NUMER_OF_DATA_DIRS = 13"
      ],
      "execution_count": 3,
      "outputs": []
    },
    {
      "cell_type": "code",
      "metadata": {
        "id": "ptX-2SnUdcfY"
      },
      "source": [
        "paths = [f'{games_data_path}{i+1}.p' for i in range(NUMER_OF_DATA_DIRS)]"
      ],
      "execution_count": 4,
      "outputs": []
    },
    {
      "cell_type": "code",
      "metadata": {
        "id": "pwV2WbP_deJY"
      },
      "source": [
        "data = []\n",
        "for path in paths:\n",
        "    with open(path, 'rb') as file:\n",
        "        raw_data = pickle.load(file)\n",
        "    data.extend(raw_data)"
      ],
      "execution_count": 6,
      "outputs": []
    },
    {
      "cell_type": "code",
      "metadata": {
        "colab": {
          "base_uri": "https://localhost:8080/"
        },
        "id": "_FPoEqwjYh8U",
        "outputId": "275a2a15-027b-4405-ecf9-e15689695e4d"
      },
      "source": [
        "len(data)"
      ],
      "execution_count": 7,
      "outputs": [
        {
          "output_type": "execute_result",
          "data": {
            "text/plain": [
              "350027"
            ]
          },
          "metadata": {
            "tags": []
          },
          "execution_count": 7
        }
      ]
    },
    {
      "cell_type": "code",
      "metadata": {
        "id": "6Kpsq8jDgRLz",
        "colab": {
          "base_uri": "https://localhost:8080/"
        },
        "outputId": "7eeeabd5-dd61-43bc-f4ac-dbcb49e9f8d9"
      },
      "source": [
        "len(list(set(data)))"
      ],
      "execution_count": 8,
      "outputs": [
        {
          "output_type": "execute_result",
          "data": {
            "text/plain": [
              "349015"
            ]
          },
          "metadata": {
            "tags": []
          },
          "execution_count": 8
        }
      ]
    },
    {
      "cell_type": "code",
      "metadata": {
        "id": "PdDszxteYzQA"
      },
      "source": [
        "data = list(set(data))"
      ],
      "execution_count": 9,
      "outputs": []
    },
    {
      "cell_type": "markdown",
      "metadata": {
        "id": "NJZ1CV6LdnGR"
      },
      "source": [
        "# board"
      ]
    },
    {
      "cell_type": "code",
      "metadata": {
        "id": "VvVJv8zHdn5A"
      },
      "source": [
        "col_names = 'abcdefgh'\n",
        "row_names = '87654321'\n",
        "pieces = {'r': 'black rook',\n",
        "          'n': 'black knight',\n",
        "          'b': 'black bishop',\n",
        "          'q': 'black queen', \n",
        "          'k': 'black king',\n",
        "          'p': 'black pawn',\n",
        "          'R': 'white rook',\n",
        "          'N': 'white knight',\n",
        "          'B': 'white bishop',\n",
        "          'Q': 'white queen', \n",
        "          'K': 'white king',\n",
        "          'P': 'white pawn'}"
      ],
      "execution_count": null,
      "outputs": []
    },
    {
      "cell_type": "code",
      "metadata": {
        "id": "24znfxBedpz0"
      },
      "source": [
        "def board_to_text(board):\n",
        "  text = \"\"\n",
        "  rows = board.split(\"/\")\n",
        "  for inx, row in enumerate(row_names):\n",
        "    row_values = rows[inx]\n",
        "    col_num = 0\n",
        "    for value in row_values:\n",
        "      if value in '12345678':\n",
        "        for i in range(int(value)):\n",
        "          text += col_names[col_num] + row + \": , \"\n",
        "          col_num += 1\n",
        "      elif value == '-':\n",
        "        print('STRANGE!')\n",
        "        text += col_names[col_num] + row + \": \" + pieces['p'] + \", \"\n",
        "        col_num += 1\n",
        "      else:\n",
        "        text +=  col_names[col_num] + row + \": \" + pieces[value] + \", \"\n",
        "        col_num += 1\n",
        "  return text[:-2]"
      ],
      "execution_count": null,
      "outputs": []
    },
    {
      "cell_type": "markdown",
      "metadata": {
        "id": "ZXv54GLcd1GQ"
      },
      "source": [
        "# move"
      ]
    },
    {
      "cell_type": "code",
      "metadata": {
        "id": "X3sFO0UJd8LZ"
      },
      "source": [
        "def map_move_piece(x):\n",
        "    if x==\"K\":\n",
        "        return \"king\"\n",
        "    elif x==\"Q\":\n",
        "        return \"queen\"\n",
        "    elif x==\"R\":\n",
        "        return \"rook\"\n",
        "    elif x==\"B\":\n",
        "        return \"bishop\"\n",
        "    elif x==\"N\":\n",
        "        return \"knight\"\n",
        "    else:\n",
        "        return \"pawn \"+x"
      ],
      "execution_count": 10,
      "outputs": []
    },
    {
      "cell_type": "code",
      "metadata": {
        "id": "HH-D5abdd9nA"
      },
      "source": [
        "def parse_one_move(move):\n",
        "  parsed = \"\"\n",
        "\n",
        "  # Nxg2+\n",
        "  if move[-1]==\"+\":\n",
        "    parsed = \"check: \"\n",
        "    move = move[:-1]\n",
        "\n",
        "  # Rd2#\n",
        "  elif move[-1]==\"#\":\n",
        "    parse = \"checkmate: \"\n",
        "    move = move[:-1]\n",
        "\n",
        "  # O-O\n",
        "  if move == 'O-O':\n",
        "    parse+= 'castling'\n",
        "    return parse\n",
        "\n",
        "  len_move = len(move)\n",
        "  \n",
        "  if \"x\" not in move: \n",
        "    # h6 \n",
        "    if len_move == 2:\n",
        "      parsed+= \"pawn \"+ move\n",
        "    \n",
        "    # Ng4\n",
        "    elif len_move == 3:\n",
        "      parsed+=  map_move_piece(move[0]) + \" \" + move[1:]\n",
        "    \n",
        "    # Nbc6\n",
        "    elif len_move == 4:\n",
        "      parsed+=  map_move_piece(move[0]) + \" \" + move[1] + \" \" + move[2:]\n",
        "    \n",
        "    # Ra5a6\n",
        "    elif len_move == 5:\n",
        "      parsed+=  map_move_piece(move[0]) + \" \" + move[1:3] + \" \" + move[3:]\n",
        "\n",
        "  else: # \"x\" in move\n",
        "    # Qxf6\n",
        "    if len_move == 4:\n",
        "      parsed+=  map_move_piece(move[0]) + \" takes \" + move[2:]\n",
        "\n",
        "    # Ngxe7, Nfxh7\n",
        "    elif len_move == 5: \n",
        "      parsed+=  map_move_piece(move[0]) + \" \" + move[1] + \" takes \" + move[3:]\n",
        "\n",
        "    # Re6xe7\n",
        "    elif len_move == 6:\n",
        "      parsed+=  map_move_piece(move[0]) + \" \" + move[1:3] + \" takes \" + move[4:]\n",
        "\n",
        "  if parsed == \"\":\n",
        "    print(\"strangeMove: \", move)\n",
        "    return \"<strangeMove>\"\n",
        "\n",
        "  return parsed"
      ],
      "execution_count": 11,
      "outputs": []
    },
    {
      "cell_type": "markdown",
      "metadata": {
        "id": "fC74wxJ2eN0h"
      },
      "source": [
        "# python-chess"
      ]
    },
    {
      "cell_type": "markdown",
      "metadata": {
        "id": "TcBZaRiFeBmT"
      },
      "source": [
        "https://python-chess.readthedocs.io/en/latest/"
      ]
    },
    {
      "cell_type": "code",
      "metadata": {
        "id": "aAjTk88sh55M"
      },
      "source": [
        "!pip install python-chess"
      ],
      "execution_count": null,
      "outputs": []
    },
    {
      "cell_type": "code",
      "metadata": {
        "id": "DGhQ_rGBiCxj"
      },
      "source": [
        "import chess"
      ],
      "execution_count": 13,
      "outputs": []
    },
    {
      "cell_type": "code",
      "metadata": {
        "id": "gDoI2U4biHWK"
      },
      "source": [
        "board = chess.Board('rnb1kb1r/3ppppp/5n2/qNpP4/8/8/PP2PPPP/R1BQKBNR w KQkq - 0 0')"
      ],
      "execution_count": 14,
      "outputs": []
    },
    {
      "cell_type": "code",
      "metadata": {
        "id": "keQAvtQ1iLT6",
        "colab": {
          "base_uri": "https://localhost:8080/"
        },
        "outputId": "e3e2cad5-5efd-4c3e-90c5-5ce29f376300"
      },
      "source": [
        "print(board)"
      ],
      "execution_count": 15,
      "outputs": [
        {
          "output_type": "stream",
          "text": [
            "r n b . k b . r\n",
            ". . . p p p p p\n",
            ". . . . . n . .\n",
            "q N p P . . . .\n",
            ". . . . . . . .\n",
            ". . . . . . . .\n",
            "P P . . P P P P\n",
            "R . B Q K B N R\n"
          ],
          "name": "stdout"
        }
      ]
    },
    {
      "cell_type": "code",
      "metadata": {
        "id": "5nudYhD-iLk6"
      },
      "source": [
        "if board.is_game_over():\n",
        "  print(\"GAME OVER\") \n",
        "elif board.is_stalemate():\n",
        "  print(\"STALE situation\")"
      ],
      "execution_count": 16,
      "outputs": []
    },
    {
      "cell_type": "code",
      "metadata": {
        "colab": {
          "base_uri": "https://localhost:8080/"
        },
        "id": "ryJJ9eUZQ2iN",
        "outputId": "833e0eec-02d4-4235-965a-1f4e2c7a5ae8"
      },
      "source": [
        "board.turn"
      ],
      "execution_count": 17,
      "outputs": [
        {
          "output_type": "execute_result",
          "data": {
            "text/plain": [
              "True"
            ]
          },
          "metadata": {
            "tags": []
          },
          "execution_count": 17
        }
      ]
    },
    {
      "cell_type": "markdown",
      "metadata": {
        "id": "qpJgxL8hXvlQ"
      },
      "source": [
        "castling"
      ]
    },
    {
      "cell_type": "code",
      "metadata": {
        "id": "MIkC4vVgVHEh"
      },
      "source": [
        "castling_rights = \"\"\n",
        "if board.has_castling_rights(chess.WHITE):\n",
        "  castling_rights += \"white\"\n",
        "if board.has_castling_rights(chess.BLACK):\n",
        "  castling_rights += \"black\" if castling_rights == \"\" else \" and black\""
      ],
      "execution_count": 18,
      "outputs": []
    },
    {
      "cell_type": "code",
      "metadata": {
        "colab": {
          "base_uri": "https://localhost:8080/",
          "height": 35
        },
        "id": "xSqmAIeLYBgB",
        "outputId": "b97fb966-0abb-4ab2-acad-29ea049c8e7e"
      },
      "source": [
        "castling_rights"
      ],
      "execution_count": 19,
      "outputs": [
        {
          "output_type": "execute_result",
          "data": {
            "application/vnd.google.colaboratory.intrinsic+json": {
              "type": "string"
            },
            "text/plain": [
              "'white and black'"
            ]
          },
          "metadata": {
            "tags": []
          },
          "execution_count": 19
        }
      ]
    },
    {
      "cell_type": "markdown",
      "metadata": {
        "id": "ciAKMDcqfeT5"
      },
      "source": [
        "legal moves"
      ]
    },
    {
      "cell_type": "code",
      "metadata": {
        "id": "xVgUkBCFiNNL"
      },
      "source": [
        "def get_legal_moves(board):\n",
        "  legal_moves = set()\n",
        "  for move in board.legal_moves:\n",
        "    uci_move = board.uci(move)\n",
        "    legal_moves.add(uci_move)\n",
        "    \n",
        "  return legal_moves"
      ],
      "execution_count": 20,
      "outputs": []
    },
    {
      "cell_type": "code",
      "metadata": {
        "colab": {
          "base_uri": "https://localhost:8080/"
        },
        "id": "rwQEQVRij8n3",
        "outputId": "9f8c9980-bf55-4c36-886c-7baa3e4c07fc"
      },
      "source": [
        "get_legal_moves(board)"
      ],
      "execution_count": 21,
      "outputs": [
        {
          "output_type": "execute_result",
          "data": {
            "text/plain": [
              "{'b2b4', 'b5c3', 'c1d2', 'd1d2'}"
            ]
          },
          "metadata": {
            "tags": []
          },
          "execution_count": 21
        }
      ]
    },
    {
      "cell_type": "code",
      "metadata": {
        "id": "d_g8E177j0lo"
      },
      "source": [
        "legal_moves = set()\n",
        "for move in board.legal_moves: \n",
        "  legal_moves.add(board.san(board.parse_uci(str(move))))"
      ],
      "execution_count": 22,
      "outputs": []
    },
    {
      "cell_type": "code",
      "metadata": {
        "colab": {
          "base_uri": "https://localhost:8080/"
        },
        "id": "6Y6qrNw5CtpZ",
        "outputId": "2c6fa673-bff5-4827-c442-b8f20b126149"
      },
      "source": [
        "legal_moves"
      ],
      "execution_count": 23,
      "outputs": [
        {
          "output_type": "execute_result",
          "data": {
            "text/plain": [
              "{'Bd2', 'Nc3', 'Qd2', 'b4'}"
            ]
          },
          "metadata": {
            "tags": []
          },
          "execution_count": 23
        }
      ]
    },
    {
      "cell_type": "code",
      "metadata": {
        "id": "37owZ1EyNQDk"
      },
      "source": [
        "# Pseudo-legal moves might leave or put the king in check, but are otherwise valid.\n",
        "pseudo_legal_moves = set()\n",
        "for move in board.pseudo_legal_moves: \n",
        "  pseudo_legal_moves.add(board.san(chess.Move.from_uci(str(move))))"
      ],
      "execution_count": 24,
      "outputs": []
    },
    {
      "cell_type": "code",
      "metadata": {
        "colab": {
          "base_uri": "https://localhost:8080/"
        },
        "id": "8aCawRgsNa8A",
        "outputId": "60fd764d-fa4c-4c53-b61f-5a377d616315"
      },
      "source": [
        "pseudo_legal_moves"
      ],
      "execution_count": 25,
      "outputs": [
        {
          "output_type": "execute_result",
          "data": {
            "text/plain": [
              "{'Bd2',\n",
              " 'Be3',\n",
              " 'Bf4',\n",
              " 'Bg5',\n",
              " 'Bh6',\n",
              " 'Kd2',\n",
              " 'Na3',\n",
              " 'Na7',\n",
              " 'Nc3',\n",
              " 'Nc7+',\n",
              " 'Nd4',\n",
              " 'Nd6+',\n",
              " 'Nf3',\n",
              " 'Nh3',\n",
              " 'Qa4',\n",
              " 'Qb3',\n",
              " 'Qc2',\n",
              " 'Qd2',\n",
              " 'Qd3',\n",
              " 'Qd4',\n",
              " 'Rb1',\n",
              " 'a3',\n",
              " 'a4',\n",
              " 'b3',\n",
              " 'b4',\n",
              " 'd6',\n",
              " 'e3',\n",
              " 'e4',\n",
              " 'f3',\n",
              " 'f4',\n",
              " 'g3',\n",
              " 'g4',\n",
              " 'h3',\n",
              " 'h4'}"
            ]
          },
          "metadata": {
            "tags": []
          },
          "execution_count": 25
        }
      ]
    },
    {
      "cell_type": "markdown",
      "metadata": {
        "id": "BwjJwB8EffVQ"
      },
      "source": [
        "attack"
      ]
    },
    {
      "cell_type": "code",
      "metadata": {
        "id": "lIoHhPGuqn9O"
      },
      "source": [
        "# ranks = rows referred to by numbers. Files = columns.\n",
        "def square_index(file_rank_string): \n",
        "  file_to_value = {\"a\":0, \"b\":1, \"c\":2, \"d\":3, \"e\":4 , \"f\":5, \"g\":6, \"h\":7}\n",
        "  file, rank = file_rank_string[0], file_rank_string[1]\n",
        "  file = file_to_value[file]\n",
        "  index = chess.square(file_index=file, rank_index=int(rank)-1)\n",
        "  return index"
      ],
      "execution_count": 26,
      "outputs": []
    },
    {
      "cell_type": "code",
      "metadata": {
        "id": "2WWC35vcfdc5"
      },
      "source": [
        "def getAttackers(board, square):\n",
        "    turn = board.turn\n",
        "\n",
        "    attackers = board.attackers(turn, square_index(square))\n",
        "    attacks = board.attacks(square_index(square))\n",
        "    \n",
        "    attackers_list = [chess.square_name(attacker) for attacker in attackers]\n",
        "    attacks_list = [chess.square_name(attack) for attack in attacks]\n",
        "\n",
        "    piece_map = board.piece_map()\n",
        "    square_with_opponent_pieces = [chess.square_name(key) for key in piece_map.keys() if piece_map[key].color == turn]\n",
        "    attacks_with_pieces = list(set(attacks_list).intersection(set(square_with_opponent_pieces)))\n",
        "\n",
        "    return attackers_list, attacks_with_pieces"
      ],
      "execution_count": 27,
      "outputs": []
    },
    {
      "cell_type": "code",
      "metadata": {
        "id": "oanXdCvAQs2n"
      },
      "source": [
        "board = chess.Board('rnb1kb1r/3ppppp/5n2/qNpP4/8/8/PP2PPPP/R1BQKBNR w KQkq - 0 0')"
      ],
      "execution_count": 28,
      "outputs": []
    },
    {
      "cell_type": "code",
      "metadata": {
        "id": "AL1Z1aKSWTb_"
      },
      "source": [
        "attackers_list, attacks_list = getAttackers(board, 'a5')"
      ],
      "execution_count": 32,
      "outputs": []
    },
    {
      "cell_type": "code",
      "metadata": {
        "colab": {
          "base_uri": "https://localhost:8080/"
        },
        "id": "NElsZTFTXqo5",
        "outputId": "444bb58f-7879-4fac-d95f-003594d810a4"
      },
      "source": [
        "attackers_list"
      ],
      "execution_count": 33,
      "outputs": [
        {
          "output_type": "execute_result",
          "data": {
            "text/plain": [
              "[]"
            ]
          },
          "metadata": {
            "tags": []
          },
          "execution_count": 33
        }
      ]
    },
    {
      "cell_type": "code",
      "metadata": {
        "colab": {
          "base_uri": "https://localhost:8080/"
        },
        "id": "huqQeob5XtbO",
        "outputId": "63e78435-59bf-4634-c4cd-8856b14fe9e6"
      },
      "source": [
        "attacks_list"
      ],
      "execution_count": 34,
      "outputs": [
        {
          "output_type": "execute_result",
          "data": {
            "text/plain": [
              "['e1', 'b5', 'a2']"
            ]
          },
          "metadata": {
            "tags": []
          },
          "execution_count": 34
        }
      ]
    },
    {
      "cell_type": "markdown",
      "metadata": {
        "id": "sHN3gt6CuNQu"
      },
      "source": [
        "check"
      ]
    },
    {
      "cell_type": "code",
      "metadata": {
        "id": "FkA865wLuJyo"
      },
      "source": [
        "# board.checkers() \n",
        "# board.gives_check(legal_moves)"
      ],
      "execution_count": null,
      "outputs": []
    },
    {
      "cell_type": "code",
      "metadata": {
        "id": "495RDtEGuaNl",
        "colab": {
          "base_uri": "https://localhost:8080/"
        },
        "outputId": "18c163f5-b915-4d63-cb8c-8427368c167f"
      },
      "source": [
        "board.is_check()"
      ],
      "execution_count": 35,
      "outputs": [
        {
          "output_type": "execute_result",
          "data": {
            "text/plain": [
              "True"
            ]
          },
          "metadata": {
            "tags": []
          },
          "execution_count": 35
        }
      ]
    },
    {
      "cell_type": "code",
      "metadata": {
        "colab": {
          "base_uri": "https://localhost:8080/"
        },
        "id": "iM8LAOFlHAnw",
        "outputId": "33076f30-123a-4b02-ed16-40ae7e838add"
      },
      "source": [
        "board.is_checkmate()"
      ],
      "execution_count": 36,
      "outputs": [
        {
          "output_type": "execute_result",
          "data": {
            "text/plain": [
              "False"
            ]
          },
          "metadata": {
            "tags": []
          },
          "execution_count": 36
        }
      ]
    },
    {
      "cell_type": "markdown",
      "metadata": {
        "id": "M1Tvc65ceQ1a"
      },
      "source": [
        "# save new data"
      ]
    },
    {
      "cell_type": "code",
      "metadata": {
        "id": "hHevqGeNS9hD"
      },
      "source": [
        "from tqdm import tqdm "
      ],
      "execution_count": 37,
      "outputs": []
    },
    {
      "cell_type": "code",
      "metadata": {
        "id": "wYVEPyaaT-bJ"
      },
      "source": [
        "new_data = []\n",
        "counter = 0"
      ],
      "execution_count": 38,
      "outputs": []
    },
    {
      "cell_type": "code",
      "metadata": {
        "id": "EWFRRzrvfgcZ",
        "colab": {
          "base_uri": "https://localhost:8080/"
        },
        "outputId": "6fc48494-71e9-4058-c7af-b16bcf984c5a"
      },
      "source": [
        "for trio in tqdm(data, position=0, leave=True):\n",
        "  FEN = trio[0][:trio[0].find(\"|\")]\n",
        "  moves = trio[1]\n",
        "  comment = trio[2].lower()\n",
        "\n",
        "  # last move \n",
        "  last_move_UCI =  trio[0][trio[0].find(\"=\")+1:]\n",
        "  last_move_SAN = moves.split(',')[-1].replace(\" \", \"\")\n",
        "  last_move_desc = parse_one_move(last_move_SAN) if moves!='' else ''\n",
        "\n",
        "  # board \n",
        "  if '3-4' in FEN:\n",
        "    print(\"STRANGE!\")  # one sample with bug..\n",
        "    FEN = FEN.replace('3-4', '3p4')\n",
        "\n",
        "  # board_desc = board_to_text(FEN[:FEN.find(' ')])\n",
        "\n",
        "  board = chess.Board(FEN+' 0 0')\n",
        "\n",
        "  # if board.turn:\n",
        "  #   turn = \"white\"\n",
        "  # else:\n",
        "  #   turn = \"black\"\n",
        "\n",
        "  # legal moves \n",
        "  legal_moves = set()\n",
        "  for move in board.legal_moves: \n",
        "    legal_moves.add(board.san(board.parse_uci(str(move))))\n",
        "  legal_moves = list(legal_moves)\n",
        "  legal_moves = \", \".join(legal_moves)\n",
        "  \n",
        "  # attack\n",
        "  attackers_list, attacks_list = getAttackers(board, last_move_UCI[-2:])\n",
        "  attackers_list, attacks_list = \", \".join(attackers_list), \", \".join(attacks_list)\n",
        "\n",
        "  #sample = (FEN, board_desc, moves, last_move_desc, turn, legal_moves, attackers_list, attacks_list, comment)\n",
        "  sample = (FEN, moves, last_move_desc, legal_moves, attackers_list, attacks_list, comment)\n",
        "\n",
        "  new_data.append(sample)\n",
        "\n",
        "  counter += 1\n",
        "  if counter%30000==0:\n",
        "    saved = str(int(counter/30000))\n",
        "    pickle.dump(new_data, open(BASE_PATH+\"NEW_attack/games_data\"+saved+\".p\",\"wb\"))\n",
        "    new_data = []"
      ],
      "execution_count": 39,
      "outputs": [
        {
          "output_type": "stream",
          "text": [
            " 24%|██▍       | 84716/349015 [02:49<08:32, 515.27it/s]"
          ],
          "name": "stderr"
        },
        {
          "output_type": "stream",
          "text": [
            "STRANGE!\n"
          ],
          "name": "stdout"
        },
        {
          "output_type": "stream",
          "text": [
            "100%|██████████| 349015/349015 [11:34<00:00, 502.43it/s]\n"
          ],
          "name": "stderr"
        }
      ]
    },
    {
      "cell_type": "code",
      "metadata": {
        "colab": {
          "base_uri": "https://localhost:8080/"
        },
        "id": "mH1nlPcotnZQ",
        "outputId": "87b7749a-5db5-4731-b6b6-97b815cb31df"
      },
      "source": [
        "len(new_data)"
      ],
      "execution_count": 40,
      "outputs": [
        {
          "output_type": "execute_result",
          "data": {
            "text/plain": [
              "19015"
            ]
          },
          "metadata": {
            "tags": []
          },
          "execution_count": 40
        }
      ]
    },
    {
      "cell_type": "code",
      "metadata": {
        "id": "Bvvh13l_sH3R"
      },
      "source": [
        "# don't forget save leftovers ;)\n",
        "saved = '12'\n",
        "pickle.dump(new_data, open(BASE_PATH+\"NEW_attack/games_data\"+saved+\".p\",\"wb\"))"
      ],
      "execution_count": 41,
      "outputs": []
    },
    {
      "cell_type": "code",
      "metadata": {
        "id": "VDKpEeyLtHQf"
      },
      "source": [
        ""
      ],
      "execution_count": null,
      "outputs": []
    },
    {
      "cell_type": "markdown",
      "metadata": {
        "id": "Mj2PEn0CwpSV"
      },
      "source": [
        "check if new data looks ok:"
      ]
    },
    {
      "cell_type": "code",
      "metadata": {
        "id": "M8oUwy3VsK43"
      },
      "source": [
        "new_games_data_path = BASE_PATH + 'NEW_attack/games_data'\n",
        "new_NUMER_OF_DATA_DIRS = 12"
      ],
      "execution_count": 42,
      "outputs": []
    },
    {
      "cell_type": "code",
      "metadata": {
        "id": "hasDcotvsRJL"
      },
      "source": [
        "new_paths = [f'{new_games_data_path}{i+1}.p' for i in range(new_NUMER_OF_DATA_DIRS)]"
      ],
      "execution_count": 43,
      "outputs": []
    },
    {
      "cell_type": "code",
      "metadata": {
        "id": "Jr4qA4oUsK2U"
      },
      "source": [
        "length = []\n",
        "upgraded_data = []\n",
        "for path in new_paths:\n",
        "    with open(path, 'rb') as file:\n",
        "        upgraded_raw_data = pickle.load(file)\n",
        "    length.append(len(upgraded_raw_data))\n",
        "    upgraded_data.extend(upgraded_raw_data)"
      ],
      "execution_count": 44,
      "outputs": []
    },
    {
      "cell_type": "code",
      "metadata": {
        "colab": {
          "base_uri": "https://localhost:8080/"
        },
        "id": "AdhoT7Pdvk_D",
        "outputId": "95e3f860-f730-4225-8fc0-eeab75733b7d"
      },
      "source": [
        "length"
      ],
      "execution_count": 45,
      "outputs": [
        {
          "output_type": "execute_result",
          "data": {
            "text/plain": [
              "[30000,\n",
              " 30000,\n",
              " 30000,\n",
              " 30000,\n",
              " 30000,\n",
              " 30000,\n",
              " 30000,\n",
              " 30000,\n",
              " 30000,\n",
              " 30000,\n",
              " 30000,\n",
              " 19015]"
            ]
          },
          "metadata": {
            "tags": []
          },
          "execution_count": 45
        }
      ]
    },
    {
      "cell_type": "code",
      "metadata": {
        "colab": {
          "base_uri": "https://localhost:8080/"
        },
        "id": "ncXOibZpvmba",
        "outputId": "b1d1b264-bfb0-47cc-a2f0-6f24b5898d89"
      },
      "source": [
        "len(upgraded_data)"
      ],
      "execution_count": 46,
      "outputs": [
        {
          "output_type": "execute_result",
          "data": {
            "text/plain": [
              "349015"
            ]
          },
          "metadata": {
            "tags": []
          },
          "execution_count": 46
        }
      ]
    },
    {
      "cell_type": "code",
      "metadata": {
        "id": "uVfbehX0YqP-"
      },
      "source": [
        ""
      ],
      "execution_count": null,
      "outputs": []
    },
    {
      "cell_type": "code",
      "metadata": {
        "colab": {
          "base_uri": "https://localhost:8080/"
        },
        "id": "KHv0wbNbBT-x",
        "outputId": "60a67a5c-fbae-47c6-990d-a7002b3f9f36"
      },
      "source": [
        "upgraded_data[0]"
      ],
      "execution_count": 55,
      "outputs": [
        {
          "output_type": "execute_result",
          "data": {
            "text/plain": [
              "('Q7/7p/8/7k/6q1/8/3K4/6Q1 b - -',\n",
              " 'Qxg1',\n",
              " 'queen takes g1',\n",
              " 'Qh3, Kg6, Qb4+, Qd7+, Qf4+, Qd1+, Qe2+, Qg3, Qf5, Kh6, Qh4, Qe6, Qg2+, Qd4+, Qe4, Qa4, Qg6, Qg8, Kh4, Kg5, Qc4, h6, Qf3, Qg5+, Qg7, Qc8, Qxg1',\n",
              " 'g4',\n",
              " 'g4',\n",
              " 'although black emerges a pawn ahead, the position is a safe draw after this.  but white might still have tried exploiting the awkward placing of the black queens by playing 91.qe8ch.  for example, after 91.qe8ch kg5?? 92.qxg1 qxg1 93.qg8ch skewers the black king and queen and wins.  so: 91.qe8ch kh4  92.qh6ch kg3  93.qe5ch ... at this point black might escape the checks by ...kf2 or ...kg2, but 93...kf3?? 94.qe2ch kg3  95.qxg4ch kxg4 96.qg7ch and another skewer.  again: there was little to lose by inviting black to go wrong.')"
            ]
          },
          "metadata": {
            "tags": []
          },
          "execution_count": 55
        }
      ]
    },
    {
      "cell_type": "code",
      "metadata": {
        "colab": {
          "base_uri": "https://localhost:8080/"
        },
        "id": "xbIIkEslBT87",
        "outputId": "3f4d44b6-0e5e-450a-ad49-fb03f41f837d"
      },
      "source": [
        "upgraded_data[1]"
      ],
      "execution_count": 56,
      "outputs": [
        {
          "output_type": "execute_result",
          "data": {
            "text/plain": [
              "('rn1k3r/pp3ppp/1bpp2q1/4p3/Q1B1P1n1/B1P2NPb/P2P1P1P/RN2R1K1 w - -',\n",
              " 'g3, Ng4',\n",
              " 'knight g4',\n",
              " 'Bc5, Qd1, Bf1, Ba6, Qb3, Qa6, Be2, d3, Kh1, Ng5, Qxc6, Rc1, Qa5, Qb4, Nd4, Bb5, Bd5, Bxf7, Nh4, Bb2, Bxd6, Qc2, Nxe5, Bc1, Re2, Bd3, Qb5, Rf1, Rd1, d4, Re3, Bb4, Qxa7, Be6, Bb3',\n",
              " '',\n",
              " 'h2, f2',\n",
              " 'double threat on f2!')"
            ]
          },
          "metadata": {
            "tags": []
          },
          "execution_count": 56
        }
      ]
    },
    {
      "cell_type": "code",
      "metadata": {
        "colab": {
          "base_uri": "https://localhost:8080/"
        },
        "id": "T6RRAoePdV2H",
        "outputId": "7b40622c-7ca6-4aae-a9a5-5eb6c6780661"
      },
      "source": [
        "upgraded_data[4]"
      ],
      "execution_count": 60,
      "outputs": [
        {
          "output_type": "execute_result",
          "data": {
            "text/plain": [
              "('rn1qkbnr/ppp2ppp/3p4/4P3/4P3/5Q2/PPP2PPP/RNB1KB1R b KQkq -',\n",
              " 'Qxf3',\n",
              " 'queen takes f3',\n",
              " 'Nd7, f6, Ne7, Qg5, Qd7, a5, Be7, c6, Qe7, Nf6, Qh4, f5, Qf6, c5, g5, h5, dxe5, b6, Nh6, h6, Ke7, b5, Kd7, Nc6, d5, Na6, g6, Qc8, a6',\n",
              " '',\n",
              " 'f7',\n",
              " 'so i take with the queen, developing')"
            ]
          },
          "metadata": {
            "tags": []
          },
          "execution_count": 60
        }
      ]
    },
    {
      "cell_type": "code",
      "metadata": {
        "colab": {
          "base_uri": "https://localhost:8080/"
        },
        "id": "4-CBhtCxdaFQ",
        "outputId": "0480cb20-f9a6-40a0-9b83-7e98dc825e57"
      },
      "source": [
        "upgraded_data[5]"
      ],
      "execution_count": 61,
      "outputs": [
        {
          "output_type": "execute_result",
          "data": {
            "text/plain": [
              "('r6r/ppp1n2p/4P1p1/3k4/4p1B1/6P1/PPPP3P/R1B1K2R b KQ -',\n",
              " 'Nxe7, e6',\n",
              " 'pawn e6',\n",
              " 'Rac8, Rae8, Rag8, Rab8, a5, Kc5, Rad8, Kd4, Rhc8, c6, c5, g5, Rhf8, Rhe8, Ng8, Kc4, h5, Kc6, Ke5, b6, Raf8, h6, Nf5, Rhb8, b5, Kd6, Rhg8, Nc6, Rhd8, Nc8, e3, a6',\n",
              " 'd5',\n",
              " '',\n",
              " \"also allowed me to advance pawn further where he was protected by bishop, this pawn could be a real thorn in blacks side. although his passed pawn had to be watched. i was still feeling this game could be vey drawish as if i exchanged all the pieces from here on in i would still prob only end up a bishop better off which wouldn't be enough to win. i found this quite depressing as i had won back the queen with a nice fork.\")"
            ]
          },
          "metadata": {
            "tags": []
          },
          "execution_count": 61
        }
      ]
    }
  ]
}